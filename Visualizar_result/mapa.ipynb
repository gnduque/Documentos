{
 "cells": [
  {
   "cell_type": "code",
   "execution_count": 1,
   "metadata": {},
   "outputs": [],
   "source": [
    "#!pip install -U geemap"
   ]
  },
  {
   "cell_type": "code",
   "execution_count": null,
   "metadata": {},
   "outputs": [],
   "source": [
    "#!pip install geemap"
   ]
  },
  {
   "cell_type": "code",
   "execution_count": 1,
   "metadata": {},
   "outputs": [
    {
     "data": {
      "application/vnd.jupyter.widget-view+json": {
       "model_id": "2439032d8272429e974795c034a83f46",
       "version_major": 2,
       "version_minor": 0
      },
      "text/plain": [
       "Map(center=[-0.229, -78.52], controls=(WidgetControl(options=['position', 'transparent_bg'], widget=SearchData…"
      ]
     },
     "execution_count": 1,
     "metadata": {},
     "output_type": "execute_result"
    }
   ],
   "source": [
    "import ee\n",
    "import geemap\n",
    "\n",
    "# Inicializar Earth Engine\n",
    "ee.Initialize(project='modern-renderer-413302')\n",
    "\n",
    "# Cargar las imágenes y los parámetros de visualización\n",
    "dataset = ee.Image(\"projects/modern-renderer-413302/assets/LULC_2009_2015_i\").reproject(crs='EPSG:4326', scale=30)\n",
    "vis_params = {\n",
    "    'min': 1,\n",
    "    'max': 10,\n",
    "    'palette': ['#ffffff', '#00FFFF', '#006400', '#00FF00', '#800000', '#808080', '#FFFF00', '#808000', '#FF00FF', '#AFEEEE']\n",
    "}\n",
    "\n",
    "raster = ee.Image(\"projects/modern-renderer-413302/assets/AOD_2009_2015\")\n",
    "raster_reclassified = raster.expression(\n",
    "    \"b(0) <= 0 ? 1 : b(0) <= 0.04 ? 2 : b(0) <= 0.1 ? 3 : b(0) <= 0.15 ? 4 : b(0) <= 0.2 ? 5 : b(0) <= 0.3 ? 6 : b(0) <= 0.5 ? 7 : 8\"\n",
    ")\n",
    "geometry = ee.FeatureCollection(\"projects/modern-renderer-413302/assets/ecuador_borde_pol\")\n",
    "raster_clipped = raster_reclassified.clipToCollection(geometry)\n",
    "raster_vis_params = {\n",
    "    'min': 1,\n",
    "    'max': 8,\n",
    "    'palette': ['#00FF00', '#7FFF00', '#FFFF00', '#FFD700', '#FFA500', '#FF4500', '#FF0000']\n",
    "}\n",
    "\n",
    "# Crear un mapa interactivo\n",
    "mapa = geemap.Map(center=[-0.229, -78.52], zoom=12)\n",
    "\n",
    "# Añadir capas al mapa\n",
    "mapa.addLayer(dataset, vis_params, \"LULC 2009-2015\")\n",
    "mapa.addLayer(raster_clipped, raster_vis_params, \"AOD Reclasificado\")\n",
    "mapa.addLayerControl()\n",
    "\n",
    "# Agregar el inspector de valores\n",
    "mapa.add_inspector()\n",
    "\n",
    "# Mostrar el mapa\n",
    "mapa"
   ]
  }
 ],
 "metadata": {
  "kernelspec": {
   "display_name": "entor",
   "language": "python",
   "name": "python3"
  },
  "language_info": {
   "codemirror_mode": {
    "name": "ipython",
    "version": 3
   },
   "file_extension": ".py",
   "mimetype": "text/x-python",
   "name": "python",
   "nbconvert_exporter": "python",
   "pygments_lexer": "ipython3",
   "version": "3.8.20"
  }
 },
 "nbformat": 4,
 "nbformat_minor": 2
}
