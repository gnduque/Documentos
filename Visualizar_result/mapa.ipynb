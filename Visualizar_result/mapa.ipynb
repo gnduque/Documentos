{
 "cells": [
  {
   "cell_type": "code",
   "execution_count": 1,
   "metadata": {},
   "outputs": [],
   "source": [
    "#!pip install -U geemap"
   ]
  },
  {
   "cell_type": "code",
   "execution_count": null,
   "metadata": {},
   "outputs": [],
   "source": [
    "#!pip install geemap"
   ]
  },
  {
   "cell_type": "code",
   "execution_count": 15,
   "metadata": {},
   "outputs": [
    {
     "data": {
      "text/html": [
       "\n",
       "            <style>\n",
       "                .geemap-dark {\n",
       "                    --jp-widgets-color: white;\n",
       "                    --jp-widgets-label-color: white;\n",
       "                    --jp-ui-font-color1: white;\n",
       "                    --jp-layout-color2: #454545;\n",
       "                    background-color: #383838;\n",
       "                }\n",
       "\n",
       "                .geemap-dark .jupyter-button {\n",
       "                    --jp-layout-color3: #383838;\n",
       "                }\n",
       "\n",
       "                .geemap-colab {\n",
       "                    background-color: var(--colab-primary-surface-color, white);\n",
       "                }\n",
       "\n",
       "                .geemap-colab .jupyter-button {\n",
       "                    --jp-layout-color3: var(--colab-primary-surface-color, white);\n",
       "                }\n",
       "            </style>\n",
       "            "
      ],
      "text/plain": [
       "<IPython.core.display.HTML object>"
      ]
     },
     "metadata": {},
     "output_type": "display_data"
    },
    {
     "data": {
      "application/vnd.jupyter.widget-view+json": {
       "model_id": "c2e346bc93374bad9e7a4c6dda0d1ffe",
       "version_major": 2,
       "version_minor": 0
      },
      "text/plain": [
       "Map(center=[-0.229, -78.52], controls=(WidgetControl(options=['position', 'transparent_bg'], widget=SearchData…"
      ]
     },
     "execution_count": 15,
     "metadata": {},
     "output_type": "execute_result"
    }
   ],
   "source": [
    "import ee\n",
    "import geemap\n",
    "\n",
    "# Inicializar Earth Engine\n",
    "ee.Initialize(project='modern-renderer-413302')\n",
    "\n",
    "# Cargar las imágenes y los parámetros de visualización\n",
    "dataset = ee.Image(\"projects/modern-renderer-413302/assets/LULC_2010_2014_RF\").reproject(crs='EPSG:4326', scale=30)\n",
    "raster_reclassified1 = dataset.expression(\n",
    " \"b(0) <= 1 ? 1 : b(0) <= 2 ? 2: b(0) <= 3 ? 3 : b(0) <= 7 ? 4 : b(0) <= 8 ? 5 : b(0) <= 9 ? 6 : b(0) <= 10 ? 7 : b(0) <= 11 ? 8 : b(0) <= 12 ? 9 : 10 \"\n",
    ")\n",
    "geometry = ee.FeatureCollection(\"projects/modern-renderer-413302/assets/ecuador_borde_pol\")\n",
    "raster_clipped1 = raster_reclassified1.clipToCollection(geometry)\n",
    "vis_params = {\n",
    "    'min': 1,\n",
    "    'max': 10,\n",
    "    'palette': ['#AEC3D4', '#132007', '#90ae41', '#00FFFF', '#fdf6f2', '#683401', '#CC0013', '#6F6F6F', '#ffff00', '#CDB33B']\n",
    "}\n",
    "\n",
    "raster = ee.Image(\"projects/modern-renderer-413302/assets/AOD_2012\")\n",
    "raster_reclassified = raster.expression(\n",
    "    \"b(0) <= 0.08 ? 1 : b(0) <= 0.15 ? 2 : b(0) <= 0.24 ? 3 : b(0) <= 0.3 ? 4 : b(0) <= 0.4 ? 5 : b(0) <= 3 ? 6 : 7\"\n",
    ")\n",
    "geometry = ee.FeatureCollection(\"projects/modern-renderer-413302/assets/ecuador_borde_pol\")\n",
    "raster_clipped = raster_reclassified.clipToCollection(geometry)\n",
    "raster_vis_params = {\n",
    "    'min': 1,\n",
    "    'max': 7,\n",
    "    'palette': ['#2E7D32', '#64DD17', '#FFD600', '#FF8C00', '#D84315', '#B71C1C','#2E7D32']\n",
    "}\n",
    "\n",
    "# Crear un mapa interactivo\n",
    "mapa = geemap.Map(center=[-0.229, -78.52], zoom=12)\n",
    "\n",
    "# Añadir capas al mapa\n",
    "mapa.addLayer(raster_clipped1, vis_params, \"LULC 2010-2013\")\n",
    "mapa.addLayer(raster_clipped, raster_vis_params, \"AOD_2012\")\n",
    "mapa.addLayerControl()\n",
    "\n",
    "# Agregar el inspector de valores\n",
    "mapa.add_inspector()\n",
    "\n",
    "# Mostrar el mapa interactivo en Colab\n",
    "mapa"
   ]
  },
  {
   "cell_type": "code",
   "execution_count": 13,
   "metadata": {},
   "outputs": [
    {
     "data": {
      "text/html": [
       "\n",
       "            <style>\n",
       "                .geemap-dark {\n",
       "                    --jp-widgets-color: white;\n",
       "                    --jp-widgets-label-color: white;\n",
       "                    --jp-ui-font-color1: white;\n",
       "                    --jp-layout-color2: #454545;\n",
       "                    background-color: #383838;\n",
       "                }\n",
       "\n",
       "                .geemap-dark .jupyter-button {\n",
       "                    --jp-layout-color3: #383838;\n",
       "                }\n",
       "\n",
       "                .geemap-colab {\n",
       "                    background-color: var(--colab-primary-surface-color, white);\n",
       "                }\n",
       "\n",
       "                .geemap-colab .jupyter-button {\n",
       "                    --jp-layout-color3: var(--colab-primary-surface-color, white);\n",
       "                }\n",
       "            </style>\n",
       "            "
      ],
      "text/plain": [
       "<IPython.core.display.HTML object>"
      ]
     },
     "metadata": {},
     "output_type": "display_data"
    },
    {
     "data": {
      "application/vnd.jupyter.widget-view+json": {
       "model_id": "c010c0948ab84cb2bced6829823ff7f3",
       "version_major": 2,
       "version_minor": 0
      },
      "text/plain": [
       "Map(center=[-0.229, -78.52], controls=(WidgetControl(options=['position', 'transparent_bg'], widget=SearchData…"
      ]
     },
     "execution_count": 13,
     "metadata": {},
     "output_type": "execute_result"
    }
   ],
   "source": [
    "import ee\n",
    "import geemap\n",
    "\n",
    "# Inicializar Earth Engine\n",
    "ee.Initialize(project='modern-renderer-413302')\n",
    "\n",
    "# Cargar las imágenes y los parámetros de visualización\n",
    "dataset = ee.Image(\"projects/modern-renderer-413302/assets/LULC_2020_2022_RF\").reproject(crs='EPSG:4326', scale=30)\n",
    "raster_reclassified1 = dataset.expression(\n",
    " \"b(0) <= 1 ? 1 : b(0) <= 2 ? 2: b(0) <= 3 ? 3 : b(0) <= 7 ? 4 : b(0) <= 8 ? 5 : b(0) <= 9 ? 6 : b(0) <= 10 ? 7 : b(0) <= 11 ? 8 : b(0) <= 12 ? 9 : 10 \"\n",
    ")\n",
    "geometry = ee.FeatureCollection(\"projects/modern-renderer-413302/assets/ecuador_borde_pol\")\n",
    "raster_clipped1 = raster_reclassified1.clipToCollection(geometry)\n",
    "vis_params = {\n",
    "    'min': 1,\n",
    "    'max': 10,\n",
    "    'palette': ['#AEC3D4', '#132007', '#90ae41', '#00FFFF', '#fdf6f2', '#683401', '#CC0013', '#6F6F6F', '#ffff00', '#CDB33B']\n",
    "}\n",
    "\n",
    "raster = ee.Image(\"projects/modern-renderer-413302/assets/AOD_2022\")\n",
    "raster_reclassified = raster.expression(\n",
    "    \"b(0) <= 0.08 ? 1 : b(0) <= 0.15 ? 2 : b(0) <= 0.24 ? 3 : b(0) <= 0.3 ? 4 : b(0) <= 0.4 ? 5 : b(0) <= 3 ? 6 : 7\"\n",
    ")\n",
    "geometry = ee.FeatureCollection(\"projects/modern-renderer-413302/assets/ecuador_borde_pol\")\n",
    "raster_clipped = raster_reclassified.clipToCollection(geometry)\n",
    "raster_vis_params = {\n",
    "    'min': 1,\n",
    "    'max': 7,\n",
    "    'palette': ['#2E7D32', '#64DD17', '#FFD600', '#FF8C00', '#D84315', '#B71C1C','#2E7D32']\n",
    "}\n",
    "\n",
    "# Crear un mapa interactivo\n",
    "mapa = geemap.Map(center=[-0.229, -78.52], zoom=12)\n",
    "\n",
    "# Añadir capas al mapa\n",
    "mapa.addLayer(raster_clipped1, vis_params, \"LULC 2020-2022\")\n",
    "mapa.addLayer(raster_clipped, raster_vis_params, \"AOD_2022\")\n",
    "mapa.addLayerControl()\n",
    "\n",
    "# Agregar el inspector de valores\n",
    "mapa.add_inspector()\n",
    "\n",
    "# Mostrar el mapa interactivo en Colab\n",
    "mapa"
   ]
  }
 ],
 "metadata": {
  "kernelspec": {
   "display_name": "entor",
   "language": "python",
   "name": "python3"
  },
  "language_info": {
   "codemirror_mode": {
    "name": "ipython",
    "version": 3
   },
   "file_extension": ".py",
   "mimetype": "text/x-python",
   "name": "python",
   "nbconvert_exporter": "python",
   "pygments_lexer": "ipython3",
   "version": "3.8.20"
  }
 },
 "nbformat": 4,
 "nbformat_minor": 2
}
