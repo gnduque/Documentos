{
 "cells": [
  {
   "cell_type": "code",
   "execution_count": null,
   "metadata": {},
   "outputs": [],
   "source": [
    "#pip install streamlit\n",
    "#!pip install geemap --upgrade\n"
   ]
  },
  {
   "cell_type": "code",
   "execution_count": 11,
   "metadata": {},
   "outputs": [
    {
     "data": {
      "text/html": [
       "\n",
       "            <style>\n",
       "                .geemap-dark {\n",
       "                    --jp-widgets-color: white;\n",
       "                    --jp-widgets-label-color: white;\n",
       "                    --jp-ui-font-color1: white;\n",
       "                    --jp-layout-color2: #454545;\n",
       "                    background-color: #383838;\n",
       "                }\n",
       "\n",
       "                .geemap-dark .jupyter-button {\n",
       "                    --jp-layout-color3: #383838;\n",
       "                }\n",
       "\n",
       "                .geemap-colab {\n",
       "                    background-color: var(--colab-primary-surface-color, white);\n",
       "                }\n",
       "\n",
       "                .geemap-colab .jupyter-button {\n",
       "                    --jp-layout-color3: var(--colab-primary-surface-color, white);\n",
       "                }\n",
       "            </style>\n",
       "            "
      ],
      "text/plain": [
       "<IPython.core.display.HTML object>"
      ]
     },
     "metadata": {},
     "output_type": "display_data"
    }
   ],
   "source": [
    "import ee\n",
    "import geemap\n",
    "\n",
    "# Inicializar Earth Engine\n",
    "ee.Initialize(project='modern-renderer-413302')\n",
    "\n",
    "# Cargar las imágenes y los parámetros de visualización\n",
    "dataset = ee.Image(\"projects/modern-renderer-413302/assets/LULC_2009_2015_i\").reproject(crs='EPSG:4326', scale=30)\n",
    "vis_params = {\n",
    "    'min': 1,\n",
    "    'max': 10,\n",
    "    'palette': ['#ffffff', '#00FFFF', '#006400', '#00FF00', '#800000', '#808080', '#FFFF00', '#808000', '#FF00FF', '#AFEEEE']\n",
    "}\n",
    "\n",
    "raster = ee.Image(\"projects/modern-renderer-413302/assets/AOD_2009_2015\")\n",
    "raster_reclassified = raster.expression(\n",
    "    \"b(0) <= 0 ? 1 : b(0) <= 0.04 ? 2 : b(0) <= 0.1 ? 3 : b(0) <= 0.15 ? 4 : b(0) <= 0.2 ? 5 : b(0) <= 0.3 ? 6 : b(0) <= 0.5 ? 7 : 8\"\n",
    ")\n",
    "geometry = ee.FeatureCollection(\"projects/modern-renderer-413302/assets/ecuador_borde_pol\")\n",
    "raster_clipped = raster_reclassified.clipToCollection(geometry)\n",
    "raster_vis_params = {\n",
    "    'min': 1,\n",
    "    'max': 8,\n",
    "    'palette': ['#00FF00', '#7FFF00', '#FFFF00', '#FFD700', '#FFA500', '#FF4500', '#FF0000']\n",
    "}\n",
    "\n",
    "# Crear un mapa interactivo\n",
    "mapa = geemap.Map(center=[-0.229, -78.52], zoom=12)\n",
    "\n",
    "# Añadir capas al mapa\n",
    "mapa.addLayer(dataset, vis_params, \"LULC 2009-2015\")\n",
    "mapa.addLayer(raster_clipped, raster_vis_params, \"AOD Reclasificado\")\n",
    "mapa.addLayerControl()\n",
    "\n",
    "# Agregar el inspector de valores\n",
    "#mapa.add_inspector()\n",
    "\n",
    "# Mostrar el mapa\n",
    "#mapa"
   ]
  },
  {
   "cell_type": "code",
   "execution_count": 16,
   "metadata": {},
   "outputs": [
    {
     "data": {
      "text/html": [
       "\n",
       "            <style>\n",
       "                .geemap-dark {\n",
       "                    --jp-widgets-color: white;\n",
       "                    --jp-widgets-label-color: white;\n",
       "                    --jp-ui-font-color1: white;\n",
       "                    --jp-layout-color2: #454545;\n",
       "                    background-color: #383838;\n",
       "                }\n",
       "\n",
       "                .geemap-dark .jupyter-button {\n",
       "                    --jp-layout-color3: #383838;\n",
       "                }\n",
       "\n",
       "                .geemap-colab {\n",
       "                    background-color: var(--colab-primary-surface-color, white);\n",
       "                }\n",
       "\n",
       "                .geemap-colab .jupyter-button {\n",
       "                    --jp-layout-color3: var(--colab-primary-surface-color, white);\n",
       "                }\n",
       "            </style>\n",
       "            "
      ],
      "text/plain": [
       "<IPython.core.display.HTML object>"
      ]
     },
     "metadata": {},
     "output_type": "display_data"
    },
    {
     "name": "stderr",
     "output_type": "stream",
     "text": [
      "2024-12-18 18:38:35.268 Thread 'MainThread': missing ScriptRunContext! This warning can be ignored when running in bare mode.\n",
      "2024-12-18 18:38:35.269 Thread 'MainThread': missing ScriptRunContext! This warning can be ignored when running in bare mode.\n",
      "2024-12-18 18:38:35.270 Thread 'MainThread': missing ScriptRunContext! This warning can be ignored when running in bare mode.\n",
      "2024-12-18 18:38:35.272 Thread 'MainThread': missing ScriptRunContext! This warning can be ignored when running in bare mode.\n",
      "2024-12-18 18:38:35.274 Thread 'MainThread': missing ScriptRunContext! This warning can be ignored when running in bare mode.\n",
      "2024-12-18 18:38:35.274 Thread 'MainThread': missing ScriptRunContext! This warning can be ignored when running in bare mode.\n"
     ]
    },
    {
     "ename": "AttributeError",
     "evalue": "module 'streamlit' has no attribute 'folium_chart'",
     "output_type": "error",
     "traceback": [
      "\u001b[1;31m---------------------------------------------------------------------------\u001b[0m",
      "\u001b[1;31mAttributeError\u001b[0m                            Traceback (most recent call last)",
      "Cell \u001b[1;32mIn[16], line 8\u001b[0m\n\u001b[0;32m      5\u001b[0m st\u001b[38;5;241m.\u001b[39mwrite(\u001b[38;5;124m'\u001b[39m\u001b[38;5;124mEste es un mapa interactivo generado con Google Earth Engine.\u001b[39m\u001b[38;5;124m'\u001b[39m)\n\u001b[0;32m      7\u001b[0m \u001b[38;5;66;03m# Mostrar el mapa usando Streamlit y Folium\u001b[39;00m\n\u001b[1;32m----> 8\u001b[0m \u001b[43mst\u001b[49m\u001b[38;5;241;43m.\u001b[39;49m\u001b[43mfolium_chart\u001b[49m(mapa)\n",
      "\u001b[1;31mAttributeError\u001b[0m: module 'streamlit' has no attribute 'folium_chart'"
     ]
    }
   ],
   "source": [
    "import streamlit as st\n",
    "\n",
    "# Mostrar mapa en Streamlit\n",
    "st.title('Mapa Interactivo de GEE')\n",
    "st.write('Este es un mapa interactivo generado con Google Earth Engine.')\n",
    "st.pydeck_chart(mapa.to_streamlit())"
   ]
  }
 ],
 "metadata": {
  "kernelspec": {
   "display_name": "entor",
   "language": "python",
   "name": "python3"
  },
  "language_info": {
   "codemirror_mode": {
    "name": "ipython",
    "version": 3
   },
   "file_extension": ".py",
   "mimetype": "text/x-python",
   "name": "python",
   "nbconvert_exporter": "python",
   "pygments_lexer": "ipython3",
   "version": "3.8.20"
  }
 },
 "nbformat": 4,
 "nbformat_minor": 2
}
