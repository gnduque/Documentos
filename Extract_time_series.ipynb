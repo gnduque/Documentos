{
 "cells": [
  {
   "cell_type": "code",
   "execution_count": null,
   "id": "08570872-4cd0-49a1-89b8-78829459fbad",
   "metadata": {},
   "outputs": [],
   "source": [
    "# Autenticar con Earth Engine\n",
    "#ee.Authenticate()\n",
    "ee.Initialize()"
   ]
  },
  {
   "cell_type": "code",
   "execution_count": 60,
   "id": "22867984-bb96-49ab-8daa-57458df53f13",
   "metadata": {},
   "outputs": [
    {
     "data": {
      "text/html": [
       "\n",
       "            <style>\n",
       "                .geemap-dark {\n",
       "                    --jp-widgets-color: white;\n",
       "                    --jp-widgets-label-color: white;\n",
       "                    --jp-ui-font-color1: white;\n",
       "                    --jp-layout-color2: #454545;\n",
       "                    background-color: #383838;\n",
       "                }\n",
       "\n",
       "                .geemap-dark .jupyter-button {\n",
       "                    --jp-layout-color3: #383838;\n",
       "                }\n",
       "\n",
       "                .geemap-colab {\n",
       "                    background-color: var(--colab-primary-surface-color, white);\n",
       "                }\n",
       "\n",
       "                .geemap-colab .jupyter-button {\n",
       "                    --jp-layout-color3: var(--colab-primary-surface-color, white);\n",
       "                }\n",
       "            </style>\n",
       "            "
      ],
      "text/plain": [
       "<IPython.core.display.HTML object>"
      ]
     },
     "metadata": {},
     "output_type": "display_data"
    }
   ],
   "source": [
    "import ee\n",
    "import eefolium as geemap\n",
    "import pandas as pd\n",
    "import geemap"
   ]
  },
  {
   "cell_type": "code",
   "execution_count": 64,
   "id": "ab343225-b804-4438-9e87-4edb4e50dd5a",
   "metadata": {},
   "outputs": [
    {
     "data": {
      "text/html": [
       "\n",
       "            <style>\n",
       "                .geemap-dark {\n",
       "                    --jp-widgets-color: white;\n",
       "                    --jp-widgets-label-color: white;\n",
       "                    --jp-ui-font-color1: white;\n",
       "                    --jp-layout-color2: #454545;\n",
       "                    background-color: #383838;\n",
       "                }\n",
       "\n",
       "                .geemap-dark .jupyter-button {\n",
       "                    --jp-layout-color3: #383838;\n",
       "                }\n",
       "\n",
       "                .geemap-colab {\n",
       "                    background-color: var(--colab-primary-surface-color, white);\n",
       "                }\n",
       "\n",
       "                .geemap-colab .jupyter-button {\n",
       "                    --jp-layout-color3: var(--colab-primary-surface-color, white);\n",
       "                }\n",
       "            </style>\n",
       "            "
      ],
      "text/plain": [
       "<IPython.core.display.HTML object>"
      ]
     },
     "metadata": {},
     "output_type": "display_data"
    },
    {
     "name": "stdout",
     "output_type": "stream",
     "text": [
      "La colección tiene 7364 archivo/s\n"
     ]
    }
   ],
   "source": [
    "# Definir los parámetros\n",
    "collection = \"MODIS/061/MCD19A2_GRANULES\"\n",
    "band = \"Optical_Depth_047\"\n",
    "start_date = \"2004-01-01\"\n",
    "end_date = \"2024-02-29\"\n",
    "aoi = ee.Geometry.Point([-78.45, -0.01])\n",
    "\n",
    "# Crear la colección de imágenes\n",
    "img_collection = ee.ImageCollection(collection)\\\n",
    "                    .filterBounds(aoi)\\\n",
    "                    .select(band)\\\n",
    "                    .filterDate(start_date, end_date)\n",
    "\n",
    "# Función para agregar la fecha como una propiedad\n",
    "def add_date(image):\n",
    "    return image.set('date', ee.Date(image.date()).format('YYYY-MM-dd'))\n",
    "\n",
    "# Agregar la fecha como una propiedad a cada imagen\n",
    "img_collection_with_date = img_collection.map(add_date)\n",
    "\n",
    "# Obtener la lista de fechas únicas de la colección original\n",
    "dates_list = img_collection_with_date.aggregate_array('date').distinct()\n",
    "\n",
    "# Contar el número de imágenes únicas (una por día)\n",
    "count = dates_list.size().getInfo()\n",
    "\n",
    "print(f\"La colección tiene {count} archivo/s\")"
   ]
  },
  {
   "cell_type": "code",
   "execution_count": null,
   "id": "4b494b7d-54a0-47e0-abed-dc329dfd4490",
   "metadata": {},
   "outputs": [
    {
     "data": {
      "text/html": [
       "\n",
       "            <style>\n",
       "                .geemap-dark {\n",
       "                    --jp-widgets-color: white;\n",
       "                    --jp-widgets-label-color: white;\n",
       "                    --jp-ui-font-color1: white;\n",
       "                    --jp-layout-color2: #454545;\n",
       "                    background-color: #383838;\n",
       "                }\n",
       "\n",
       "                .geemap-dark .jupyter-button {\n",
       "                    --jp-layout-color3: #383838;\n",
       "                }\n",
       "\n",
       "                .geemap-colab {\n",
       "                    background-color: var(--colab-primary-surface-color, white);\n",
       "                }\n",
       "\n",
       "                .geemap-colab .jupyter-button {\n",
       "                    --jp-layout-color3: var(--colab-primary-surface-color, white);\n",
       "                }\n",
       "            </style>\n",
       "            "
      ],
      "text/plain": [
       "<IPython.core.display.HTML object>"
      ]
     },
     "metadata": {},
     "output_type": "display_data"
    }
   ],
   "source": [
    "# Función para extraer el valor del píxel en la geometría 'aoi'\n",
    "def extract_pixel_value(image):\n",
    "    value = image.reduceRegion(reducer=ee.Reducer.first(), geometry=aoi, scale=1000).get(band)\n",
    "    return image.set('pixel_value', value)\n",
    "\n",
    "# Mapear la función sobre la colección de imágenes\n",
    "img_collection_with_values = img_collection_with_date.map(extract_pixel_value)\n",
    "\n",
    "# Crear una lista para almacenar los datos\n",
    "data = []\n",
    "\n",
    "# Iterar sobre cada fecha en la lista de fechas\n",
    "for date in dates_list.getInfo():\n",
    "    # Filtrar la imagen para la fecha específica\n",
    "    image_for_date = img_collection_with_values.filterMetadata('date', 'equals', date).first()\n",
    "    # Obtener el valor del píxel para ese día\n",
    "    pixel_value_for_date = image_for_date.get('pixel_value').getInfo()\n",
    "    # Agregar la fecha y el valor del píxel a la lista de datos\n",
    "    data.append({'date': date, 'pixel_value': pixel_value_for_date})\n",
    "\n",
    "# Crear un DataFrame de pandas con los datos\n",
    "df = pd.DataFrame(data)\n",
    "\n",
    "# Definir la ruta de exportación \n",
    "export_path = r'C:\\Users\\ADMIN\\Desktop\\TESIS\\pixel_values.csv'\n",
    "\n",
    "# Exportar el DataFrame como un archivo CSV \n",
    "df.to_csv(export_path, index=False)\n",
    "\n",
    "print(f\"Archivo CSV exportado exitosamente a: {export_path}\")"
   ]
  },
  {
   "cell_type": "code",
   "execution_count": null,
   "id": "7837c23e-dc4e-4659-be43-3e32e4deef85",
   "metadata": {},
   "outputs": [],
   "source": []
  }
 ],
 "metadata": {
  "hide_input": false,
  "kernelspec": {
   "display_name": "Python 3 (ipykernel)",
   "language": "python",
   "name": "python3"
  },
  "language_info": {
   "codemirror_mode": {
    "name": "ipython",
    "version": 3
   },
   "file_extension": ".py",
   "mimetype": "text/x-python",
   "name": "python",
   "nbconvert_exporter": "python",
   "pygments_lexer": "ipython3",
   "version": "3.11.8"
  },
  "toc": {
   "base_numbering": 1,
   "nav_menu": {},
   "number_sections": true,
   "sideBar": true,
   "skip_h1_title": false,
   "title_cell": "Table of Contents",
   "title_sidebar": "Contents",
   "toc_cell": false,
   "toc_position": {},
   "toc_section_display": true,
   "toc_window_display": false
  }
 },
 "nbformat": 4,
 "nbformat_minor": 5
}
