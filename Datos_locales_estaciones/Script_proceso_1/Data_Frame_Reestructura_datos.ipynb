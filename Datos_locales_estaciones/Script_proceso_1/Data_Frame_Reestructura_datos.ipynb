{
 "cells": [
  {
   "cell_type": "code",
   "execution_count": 1,
   "id": "08155307",
   "metadata": {},
   "outputs": [],
   "source": [
    "#! pip install xlrd"
   ]
  },
  {
   "cell_type": "code",
   "execution_count": null,
   "id": "4d30189a-568d-4213-a846-4c4a2488528f",
   "metadata": {},
   "outputs": [],
   "source": [
    "import pandas as pd\n",
    "\n",
    "# Rutas a los archivos de Excel\n",
    "archivos_excel = [\n",
    "    r\"C:\\Users\\gisse\\OneDrive\\Escritorio\\Repositorio\\Documentos\\Datos_locales_estaciones\\Datos_iniciales\\NO2.xlsx\",\n",
    "    r\"C:\\Users\\gisse\\OneDrive\\Escritorio\\Repositorio\\Documentos\\Datos_locales_estaciones\\Datos_iniciales\\O3.xlsx\",\n",
    "    r\"C:\\Users\\gisse\\OneDrive\\Escritorio\\Repositorio\\Documentos\\Datos_locales_estaciones\\Datos_iniciales\\PM2.5.xlsx\",\n",
    "    r\"C:\\Users\\gisse\\OneDrive\\Escritorio\\Repositorio\\Documentos\\Datos_locales_estaciones\\Datos_iniciales\\PRE.xlsx\",\n",
    "    r\"C:\\Users\\gisse\\OneDrive\\Escritorio\\Repositorio\\Documentos\\Datos_locales_estaciones\\Datos_iniciales\\RS.xlsx\",\n",
    "    r\"C:\\Users\\gisse\\OneDrive\\Escritorio\\Repositorio\\Documentos\\Datos_locales_estaciones\\Datos_iniciales\\SO2.xlsx\",\n",
    "    r\"C:\\Users\\gisse\\OneDrive\\Escritorio\\Repositorio\\Documentos\\Datos_locales_estaciones\\Datos_iniciales\\TMP.xlsx\",\n",
    "    r\"C:\\Users\\gisse\\OneDrive\\Escritorio\\Repositorio\\Documentos\\Datos_locales_estaciones\\Datos_iniciales\\VEL.xlsx\",\n",
    "    r\"C:\\Users\\gisse\\OneDrive\\Escritorio\\Repositorio\\Documentos\\Datos_locales_estaciones\\Datos_iniciales\\CO.xlsx\",\n",
    "    r\"C:\\Users\\gisse\\OneDrive\\Escritorio\\Repositorio\\Documentos\\Datos_locales_estaciones\\Datos_iniciales\\DIR.xlsx\",\n",
    "    r\"C:\\Users\\gisse\\OneDrive\\Escritorio\\Repositorio\\Documentos\\Datos_locales_estaciones\\Datos_iniciales\\HUM.xlsx\",\n",
    "    r\"C:\\Users\\gisse\\OneDrive\\Escritorio\\Repositorio\\Documentos\\Datos_locales_estaciones\\Datos_iniciales\\LLU.xlsx\"\n",
    "]\n",
    "\n",
    "# Nombre de la columna a buscar\n",
    "nombre_columna = \"Tumbaco\"\n",
    "\n",
    "# Crear un DataFrame vacío para almacenar las columnas\n",
    "columnas_sitio = pd.DataFrame()\n",
    "\n",
    "# Leer cada archivo y seleccionar las columnas con el nombre de la estación de interés\n",
    "for archivo in archivos_excel:\n",
    "    df = pd.read_excel(archivo)\n",
    "    if nombre_columna in df.columns:  # Verificar si la columna existe en el archivo\n",
    "        columnas_sitio = pd.concat([columnas_sitio, df[nombre_columna]], axis=1)\n",
    "\n",
    "# Leer el archivo \"fecha.xlsx\"\n",
    "fecha_df = pd.read_excel(r\"C:\\Users\\ADMIN\\Desktop\\TESIS\\datos_remmaq\\fecha.xlsx\")\n",
    "\n",
    "# Concatenar la columna \"Fecha\" al principio del DataFrame columnas_sitio\n",
    "columnas_sitio = pd.concat([fecha_df[\"Fecha\"], columnas_sitio], axis=1)\n",
    "\n",
    "# Crear un nuevo archivo de Excel con las columnas seleccionadas si hay datos\n",
    "if not columnas_sitio.empty:\n",
    "    columnas_sitio.to_excel(\"Tumbaco.xlsx\", index=False)\n",
    "else:\n",
    "    print(\"No se encontraron datos para la columna 'Tumbaco' en los archivos Excel.\")\n"
   ]
  },
  {
   "cell_type": "code",
   "execution_count": null,
   "id": "81c6a708-a423-43d3-8aea-3a2438447ab0",
   "metadata": {},
   "outputs": [],
   "source": []
  }
 ],
 "metadata": {
  "hide_input": false,
  "kernelspec": {
   "display_name": "Python 3 (ipykernel)",
   "language": "python",
   "name": "python3"
  },
  "language_info": {
   "codemirror_mode": {
    "name": "ipython",
    "version": 3
   },
   "file_extension": ".py",
   "mimetype": "text/x-python",
   "name": "python",
   "nbconvert_exporter": "python",
   "pygments_lexer": "ipython3",
   "version": "3.11.8"
  },
  "toc": {
   "base_numbering": 1,
   "nav_menu": {},
   "number_sections": true,
   "sideBar": true,
   "skip_h1_title": false,
   "title_cell": "Table of Contents",
   "title_sidebar": "Contents",
   "toc_cell": false,
   "toc_position": {},
   "toc_section_display": true,
   "toc_window_display": false
  }
 },
 "nbformat": 4,
 "nbformat_minor": 5
}
