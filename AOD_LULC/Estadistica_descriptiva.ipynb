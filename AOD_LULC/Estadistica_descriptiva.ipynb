{
  "cells": [
    {
      "cell_type": "markdown",
      "metadata": {
        "id": "view-in-github",
        "colab_type": "text"
      },
      "source": [
        "<a href=\"https://colab.research.google.com/github/gnduque/Documentos/blob/main/Estadistica_descriptiva.ipynb\" target=\"_parent\"><img src=\"https://colab.research.google.com/assets/colab-badge.svg\" alt=\"Open In Colab\"/></a>"
      ]
    },
    {
      "cell_type": "markdown",
      "metadata": {
        "id": "XgHUdx2oLjM7"
      },
      "source": [
        "<h2><font color=\"#004D7F\" size=6>Análisis de datos</font></h2>\n",
        "\n",
        "\n",
        "\n",
        "<h1><font color=\"#004D7F\" size=5>Estadística descriptiva</font></h1>\n"
      ]
    },
    {
      "cell_type": "code",
      "execution_count": null,
      "metadata": {
        "id": "XePZBYD0LjNA",
        "colab": {
          "base_uri": "https://localhost:8080/",
          "height": 17
        },
        "outputId": "43b95313-5595-4918-ab4f-d5c176c26113"
      },
      "outputs": [
        {
          "output_type": "display_data",
          "data": {
            "text/plain": [
              "<IPython.core.display.HTML object>"
            ],
            "text/html": [
              "<style>.container{ width:98% }</style>"
            ]
          },
          "metadata": {}
        }
      ],
      "source": [
        "# Permite ajustar la anchura de la parte útil de la libreta (reduce los márgenes)\n",
        "from IPython.core.display import display, HTML\n",
        "display(HTML(\"<style>.container{ width:98% }</style>\"))"
      ]
    },
    {
      "cell_type": "markdown",
      "metadata": {
        "id": "jMzaI39ILjNC"
      },
      "source": [
        "<a id=\"section11\"></a>\n",
        "## <font color=\"#004D7F\">1.1. Cargar el conjunto de datos</font>"
      ]
    },
    {
      "cell_type": "code",
      "source": [
        "from google.colab import drive\n",
        "drive.mount('/content/drive')"
      ],
      "metadata": {
        "colab": {
          "base_uri": "https://localhost:8080/"
        },
        "id": "lWdN6AXXNImb",
        "outputId": "c6c08ee1-0be4-4461-9692-793978d7adb5"
      },
      "execution_count": null,
      "outputs": [
        {
          "output_type": "stream",
          "name": "stdout",
          "text": [
            "Mounted at /content/drive\n"
          ]
        }
      ]
    },
    {
      "cell_type": "code",
      "source": [
        "#Librerías\n",
        "import pandas as pd\n",
        "import matplotlib.pyplot as plt\n",
        "from statsmodels.graphics.tsaplots import plot_acf"
      ],
      "metadata": {
        "id": "NcoPRqQgWtM-"
      },
      "execution_count": null,
      "outputs": []
    },
    {
      "cell_type": "code",
      "source": [
        "estacion= \"Belisario\"\n",
        "#\"Max_Carapungo\"\n",
        "#\"SanAntonio\"\n",
        "#\"Tumbaco\"\n",
        "#\"Guamani\"\n",
        "#\"Cotocollao\"\n",
        "#\"Belisario\"\n",
        "#\"Centro\"\n",
        "#\"LosChillos\"\n",
        "#\"ElCamal\""
      ],
      "metadata": {
        "id": "OkbAOREAiziy"
      },
      "execution_count": 193,
      "outputs": []
    },
    {
      "cell_type": "code",
      "execution_count": 211,
      "metadata": {
        "id": "4rdKNj9dLjND"
      },
      "outputs": [],
      "source": [
        "# Path to the CSV file\n",
        "filename = f'/content/drive/MyDrive/Colab_Notebooks/Curso Python/Datos/Datos_in/{estacion}.csv'\n",
        "\n",
        "# Read the CSV file\n",
        "data = pd.read_csv(filename)\n",
        "\n",
        "# Convert the 'Fecha' column to datetime\n",
        "data['Fecha'] = pd.to_datetime(data['Fecha'])\n",
        "\n",
        "# Set 'Fecha' as the index of the DataFrame\n",
        "data.set_index('Fecha', inplace=True)\n",
        "\n",
        "# Replace NaN values in the 'AOD' column with 0\n",
        "data['AOD'] = data['AOD'].fillna(0)"
      ]
    },
    {
      "cell_type": "code",
      "source": [
        "# Eliminar filas con valores NaN\n",
        "data.dropna(inplace=True)\n",
        "\n",
        "# Divide the 'AOD' column by 1000\n",
        "#data['AOD'] = data['AOD'] / 1000"
      ],
      "metadata": {
        "id": "T4hmm7eaoLeh"
      },
      "execution_count": 212,
      "outputs": []
    },
    {
      "cell_type": "code",
      "source": [
        "# Filtrar el DataFrame para mantener solo las filas donde 'AOD' no es 0\n",
        "data = data[data['AOD'] != 0]"
      ],
      "metadata": {
        "id": "fI2u-Ay0BWc3"
      },
      "execution_count": 213,
      "outputs": []
    },
    {
      "cell_type": "markdown",
      "source": [
        "Autocorrelación"
      ],
      "metadata": {
        "id": "-8FmltgicV9v"
      }
    },
    {
      "cell_type": "code",
      "source": [
        "# Calcular autocorrelación para lag semanal\n",
        "autocorr_semanal = data['AOD'].autocorr(lag=7)\n",
        "print(f\"Autocorrelación semanal (lag de 7 días): {autocorr_semanal}\")\n",
        "\n",
        "# Calcular autocorrelación para lag mensual\n",
        "autocorr_mensual = data['AOD'].autocorr(lag=20)  # Ajusta este valor si lo consideras necesario\n",
        "print(f\"Autocorrelación mensual (lag de 20 días): {autocorr_mensual}\")\n",
        "\n",
        "# Calcular autocorrelación para lag trimestral\n",
        "autocorr_trimestral = data['AOD'].autocorr(lag=90)  # 90 días para un trimestre\n",
        "print(f\"Autocorrelación trimestral (lag de 90 días): {autocorr_trimestral}\")\n",
        "\n",
        "# Calcular autocorrelación para lag anual\n",
        "autocorr_anual = data['AOD'].autocorr(lag=365)\n",
        "print(f\"Autocorrelación anual (lag de 365 días): {autocorr_anual}\")"
      ],
      "metadata": {
        "colab": {
          "base_uri": "https://localhost:8080/"
        },
        "id": "LF3jRG2jd5bs",
        "outputId": "b4cf1226-d6d6-4dd6-e81d-30c7dfa61e7c"
      },
      "execution_count": 214,
      "outputs": [
        {
          "output_type": "stream",
          "name": "stdout",
          "text": [
            "Autocorrelación semanal (lag de 7 días): 0.14496176383809203\n",
            "Autocorrelación mensual (lag de 20 días): -0.136595086591325\n",
            "Autocorrelación trimestral (lag de 90 días): -0.0058843582717957475\n",
            "Autocorrelación anual (lag de 365 días): -0.081165229809788\n"
          ]
        }
      ]
    },
    {
      "cell_type": "code",
      "source": [
        "# Graficar la función de autocorrelación\n",
        "plt.figure(figsize=(30, 6))\n",
        "plot_acf(data['AOD'], lags=220)  # Ajusta el número de lags según sea necesario\n",
        "plt.title(\"Gráfico de Autocorrelación\")\n",
        "plt.xlabel(\"Lags\")\n",
        "plt.ylabel(\"Autocorrelación\")\n",
        "plt.show()"
      ],
      "metadata": {
        "colab": {
          "base_uri": "https://localhost:8080/",
          "height": 489
        },
        "id": "zIl3Y3Qpe2OK",
        "outputId": "065d787c-c710-41b8-e7aa-796136008d2a"
      },
      "execution_count": 215,
      "outputs": [
        {
          "output_type": "display_data",
          "data": {
            "text/plain": [
              "<Figure size 3000x600 with 0 Axes>"
            ]
          },
          "metadata": {}
        },
        {
          "output_type": "display_data",
          "data": {
            "text/plain": [
              "<Figure size 640x480 with 1 Axes>"
            ],
            "image/png": "[encoded data removed]"
          },
          "metadata": {}
        }
      ]
    },
    {
      "cell_type": "markdown",
      "source": [
        "Reensample de datos"
      ],
      "metadata": {
        "id": "znaTJGnjcYoO"
      }
    },
    {
      "cell_type": "code",
      "source": [
        " data_verano = data[data.index.month.isin([11,12,1])]"
      ],
      "metadata": {
        "id": "w7aSj17A2sEs"
      },
      "execution_count": 129,
      "outputs": []
    },
    {
      "cell_type": "code",
      "source": [
        "#DATOS SEMANALES\n",
        "# Operations dictionary\n",
        "operaciones = {\n",
        "    'NO2': 'max',\n",
        "    'O3': 'max',\n",
        "    'PM25': 'max',\n",
        "    'PRE': 'max',\n",
        "    'RS': 'max',\n",
        "    'SO2': 'max',\n",
        "    'TMP': 'max',\n",
        "    'VEL': 'max',\n",
        "    'CO': 'max',\n",
        "    'DIR': 'max',\n",
        "    'HUM': 'max',\n",
        "    'LLU': 'max',\n",
        "    'AOD': 'max'\n",
        "}\n",
        "\n",
        "# Resample the data on a weekly basis\n",
        "data = data.resample('W').agg(operaciones) #A , M or W"
      ],
      "metadata": {
        "id": "MHhx27rJZYMH"
      },
      "execution_count": 216,
      "outputs": []
    },
    {
      "cell_type": "code",
      "source": [
        "# Eliminar filas con valores NaN\n",
        "data.dropna(inplace=True)"
      ],
      "metadata": {
        "id": "SUCkr7jfZ1EU"
      },
      "execution_count": 217,
      "outputs": []
    },
    {
      "cell_type": "markdown",
      "metadata": {
        "id": "J_lisKpsLjND"
      },
      "source": [
        "<div style=\"text-align: right\"> <font size=5>\n",
        "    <a href=\"#indice\"><i class=\"fa fa-arrow-circle-up\" aria-hidden=\"true\" style=\"color:#004D7F\"></i></a>\n",
        "</font></div>\n",
        "\n",
        "---"
      ]
    },
    {
      "cell_type": "markdown",
      "metadata": {
        "id": "G3SlO8VoLjNE"
      },
      "source": [
        "<a id=\"section2\"></a>\n",
        "# <font color=\"#004D7F\"> 2. Funciones de estadística descriptiva</font>"
      ]
    },
    {
      "cell_type": "markdown",
      "metadata": {
        "id": "dtrPS2OPLjNE"
      },
      "source": [
        "<a id=\"section21\"></a>\n",
        "## <font color=\"#004D7F\">2.1. Revisar los datos: _head()_ </font>"
      ]
    },
    {
      "cell_type": "code",
      "execution_count": 128,
      "metadata": {
        "scrolled": true,
        "id": "gy3IAKBELjNF",
        "outputId": "75c6d038-5632-47f6-e5fd-32c469bd7987",
        "colab": {
          "base_uri": "https://localhost:8080/",
          "height": 708
        }
      },
      "outputs": [
        {
          "output_type": "execute_result",
          "data": {
            "text/plain": [
              "               O3   PM25     PRE       RS   SO2    TMP   VEL       DIR    HUM   LLU    AOD\n",
              "Fecha                                                                                     \n",
              "2019-09-23  65.79   36.2  766.87   852.48   4.4  22.56  3.55  140.1350  94.49   0.0  388.0\n",
              "2019-10-16  58.02   20.0  766.51   852.29   2.4  21.19  4.48  181.3617  93.39   0.4  345.0\n",
              "2019-11-05  61.98   20.9  764.81  1098.53   3.4  23.12  4.99  154.5233  99.58   0.0  267.0\n",
              "2019-11-07  55.69   23.5  763.61  1071.34  11.6  23.28  4.20   61.0621  99.66   0.0  342.0\n",
              "2019-11-09  38.10   18.5  765.00   858.72   2.4  19.60  4.27  115.9125  99.99   0.4  198.0\n",
              "2019-11-11  33.51   20.5  765.09   746.72   4.0  17.95  2.99   55.2488  99.99   2.2  273.0\n",
              "2019-11-12  42.44   18.4  764.87   967.35   2.9  19.88  3.43  157.6375  99.11   4.1  287.0\n",
              "2019-11-25  46.20   26.6  763.47   967.71   4.6  23.06  3.12  114.2417  98.36   0.0  242.0\n",
              "2019-12-04  28.95   41.2  765.58   962.70   5.0  20.79  4.38  127.8033  96.87   0.8   81.0\n",
              "2019-12-05  58.61   15.7  766.72   963.60   4.6  21.41  3.43  127.2204  99.28  16.4  298.0\n",
              "2019-12-07  49.88   15.1  767.24   904.64   2.2  19.56  3.48  110.2512  99.99   4.2  479.0\n",
              "2019-12-09  54.75   22.5  764.89  1023.57   7.0  21.41  4.24  117.0863  99.99   0.3  189.0\n",
              "2020-01-01  33.80  169.9  766.01   545.43   4.5  18.63  2.99   85.8883  99.99   1.0  526.0\n",
              "2020-01-14  44.80   35.8  763.78  1070.91   7.3  23.34  3.87  165.6000  97.46   0.0  172.0\n",
              "2020-01-15  35.65   48.7  763.87  1073.27   6.7  23.95  3.56  140.0817  98.57   0.0  348.0\n",
              "2020-01-19  29.53   23.3  764.91  1056.90   5.6  23.21  3.68  127.8675  98.71   0.0  411.0\n",
              "2020-01-22  22.62   16.1  767.06   935.86   2.1  18.53  2.75  162.4304  99.99   7.2  569.0\n",
              "2020-02-14  56.02   42.1  764.91  1100.48   9.1  22.10  4.39  196.5737  95.66   0.0  243.0\n",
              "2020-02-15  55.71   31.0  764.49  1074.44   7.1  21.99  3.84  156.6900  97.28   0.0  262.0\n",
              "2020-02-21  29.75   16.4  767.06  1138.48   3.9  20.08  3.80  120.9004  99.99   6.4  439.0"
            ],
            "text/html": [
              "\n",
              "  <div id=\"df-1d312e78-814a-496e-b08e-a878cf851337\" class=\"colab-df-container\">\n",
              "    <div>\n",
              "<style scoped>\n",
              "    .dataframe tbody tr th:only-of-type {\n",
              "        vertical-align: middle;\n",
              "    }\n",
              "\n",
              "    .dataframe tbody tr th {\n",
              "        vertical-align: top;\n",
              "    }\n",
              "\n",
              "    .dataframe thead th {\n",
              "        text-align: right;\n",
              "    }\n",
              "</style>\n",
              "<table border=\"1\" class=\"dataframe\">\n",
              "  <thead>\n",
              "    <tr style=\"text-align: right;\">\n",
              "      <th></th>\n",
              "      <th>O3</th>\n",
              "      <th>PM25</th>\n",
              "      <th>PRE</th>\n",
              "      <th>RS</th>\n",
              "      <th>SO2</th>\n",
              "      <th>TMP</th>\n",
              "      <th>VEL</th>\n",
              "      <th>DIR</th>\n",
              "      <th>HUM</th>\n",
              "      <th>LLU</th>\n",
              "      <th>AOD</th>\n",
              "    </tr>\n",
              "    <tr>\n",
              "      <th>Fecha</th>\n",
              "      <th></th>\n",
              "      <th></th>\n",
              "      <th></th>\n",
              "      <th></th>\n",
              "      <th></th>\n",
              "      <th></th>\n",
              "      <th></th>\n",
              "      <th></th>\n",
              "      <th></th>\n",
              "      <th></th>\n",
              "      <th></th>\n",
              "    </tr>\n",
              "  </thead>\n",
              "  <tbody>\n",
              "    <tr>\n",
              "      <th>2019-09-23</th>\n",
              "      <td>65.79</td>\n",
              "      <td>36.2</td>\n",
              "      <td>766.87</td>\n",
              "      <td>852.48</td>\n",
              "      <td>4.4</td>\n",
              "      <td>22.56</td>\n",
              "      <td>3.55</td>\n",
              "      <td>140.1350</td>\n",
              "      <td>94.49</td>\n",
              "      <td>0.0</td>\n",
              "      <td>388.0</td>\n",
              "    </tr>\n",
              "    <tr>\n",
              "      <th>2019-10-16</th>\n",
              "      <td>58.02</td>\n",
              "      <td>20.0</td>\n",
              "      <td>766.51</td>\n",
              "      <td>852.29</td>\n",
              "      <td>2.4</td>\n",
              "      <td>21.19</td>\n",
              "      <td>4.48</td>\n",
              "      <td>181.3617</td>\n",
              "      <td>93.39</td>\n",
              "      <td>0.4</td>\n",
              "      <td>345.0</td>\n",
              "    </tr>\n",
              "    <tr>\n",
              "      <th>2019-11-05</th>\n",
              "      <td>61.98</td>\n",
              "      <td>20.9</td>\n",
              "      <td>764.81</td>\n",
              "      <td>1098.53</td>\n",
              "      <td>3.4</td>\n",
              "      <td>23.12</td>\n",
              "      <td>4.99</td>\n",
              "      <td>154.5233</td>\n",
              "      <td>99.58</td>\n",
              "      <td>0.0</td>\n",
              "      <td>267.0</td>\n",
              "    </tr>\n",
              "    <tr>\n",
              "      <th>2019-11-07</th>\n",
              "      <td>55.69</td>\n",
              "      <td>23.5</td>\n",
              "      <td>763.61</td>\n",
              "      <td>1071.34</td>\n",
              "      <td>11.6</td>\n",
              "      <td>23.28</td>\n",
              "      <td>4.20</td>\n",
              "      <td>61.0621</td>\n",
              "      <td>99.66</td>\n",
              "      <td>0.0</td>\n",
              "      <td>342.0</td>\n",
              "    </tr>\n",
              "    <tr>\n",
              "      <th>2019-11-09</th>\n",
              "      <td>38.10</td>\n",
              "      <td>18.5</td>\n",
              "      <td>765.00</td>\n",
              "      <td>858.72</td>\n",
              "      <td>2.4</td>\n",
              "      <td>19.60</td>\n",
              "      <td>4.27</td>\n",
              "      <td>115.9125</td>\n",
              "      <td>99.99</td>\n",
              "      <td>0.4</td>\n",
              "      <td>198.0</td>\n",
              "    </tr>\n",
              "    <tr>\n",
              "      <th>2019-11-11</th>\n",
              "      <td>33.51</td>\n",
              "      <td>20.5</td>\n",
              "      <td>765.09</td>\n",
              "      <td>746.72</td>\n",
              "      <td>4.0</td>\n",
              "      <td>17.95</td>\n",
              "      <td>2.99</td>\n",
              "      <td>55.2488</td>\n",
              "      <td>99.99</td>\n",
              "      <td>2.2</td>\n",
              "      <td>273.0</td>\n",
              "    </tr>\n",
              "    <tr>\n",
              "      <th>2019-11-12</th>\n",
              "      <td>42.44</td>\n",
              "      <td>18.4</td>\n",
              "      <td>764.87</td>\n",
              "      <td>967.35</td>\n",
              "      <td>2.9</td>\n",
              "      <td>19.88</td>\n",
              "      <td>3.43</td>\n",
              "      <td>157.6375</td>\n",
              "      <td>99.11</td>\n",
              "      <td>4.1</td>\n",
              "      <td>287.0</td>\n",
              "    </tr>\n",
              "    <tr>\n",
              "      <th>2019-11-25</th>\n",
              "      <td>46.20</td>\n",
              "      <td>26.6</td>\n",
              "      <td>763.47</td>\n",
              "      <td>967.71</td>\n",
              "      <td>4.6</td>\n",
              "      <td>23.06</td>\n",
              "      <td>3.12</td>\n",
              "      <td>114.2417</td>\n",
              "      <td>98.36</td>\n",
              "      <td>0.0</td>\n",
              "      <td>242.0</td>\n",
              "    </tr>\n",
              "    <tr>\n",
              "      <th>2019-12-04</th>\n",
              "      <td>28.95</td>\n",
              "      <td>41.2</td>\n",
              "      <td>765.58</td>\n",
              "      <td>962.70</td>\n",
              "      <td>5.0</td>\n",
              "      <td>20.79</td>\n",
              "      <td>4.38</td>\n",
              "      <td>127.8033</td>\n",
              "      <td>96.87</td>\n",
              "      <td>0.8</td>\n",
              "      <td>81.0</td>\n",
              "    </tr>\n",
              "    <tr>\n",
              "      <th>2019-12-05</th>\n",
              "      <td>58.61</td>\n",
              "      <td>15.7</td>\n",
              "      <td>766.72</td>\n",
              "      <td>963.60</td>\n",
              "      <td>4.6</td>\n",
              "      <td>21.41</td>\n",
              "      <td>3.43</td>\n",
              "      <td>127.2204</td>\n",
              "      <td>99.28</td>\n",
              "      <td>16.4</td>\n",
              "      <td>298.0</td>\n",
              "    </tr>\n",
              "    <tr>\n",
              "      <th>2019-12-07</th>\n",
              "      <td>49.88</td>\n",
              "      <td>15.1</td>\n",
              "      <td>767.24</td>\n",
              "      <td>904.64</td>\n",
              "      <td>2.2</td>\n",
              "      <td>19.56</td>\n",
              "      <td>3.48</td>\n",
              "      <td>110.2512</td>\n",
              "      <td>99.99</td>\n",
              "      <td>4.2</td>\n",
              "      <td>479.0</td>\n",
              "    </tr>\n",
              "    <tr>\n",
              "      <th>2019-12-09</th>\n",
              "      <td>54.75</td>\n",
              "      <td>22.5</td>\n",
              "      <td>764.89</td>\n",
              "      <td>1023.57</td>\n",
              "      <td>7.0</td>\n",
              "      <td>21.41</td>\n",
              "      <td>4.24</td>\n",
              "      <td>117.0863</td>\n",
              "      <td>99.99</td>\n",
              "      <td>0.3</td>\n",
              "      <td>189.0</td>\n",
              "    </tr>\n",
              "    <tr>\n",
              "      <th>2020-01-01</th>\n",
              "      <td>33.80</td>\n",
              "      <td>169.9</td>\n",
              "      <td>766.01</td>\n",
              "      <td>545.43</td>\n",
              "      <td>4.5</td>\n",
              "      <td>18.63</td>\n",
              "      <td>2.99</td>\n",
              "      <td>85.8883</td>\n",
              "      <td>99.99</td>\n",
              "      <td>1.0</td>\n",
              "      <td>526.0</td>\n",
              "    </tr>\n",
              "    <tr>\n",
              "      <th>2020-01-14</th>\n",
              "      <td>44.80</td>\n",
              "      <td>35.8</td>\n",
              "      <td>763.78</td>\n",
              "      <td>1070.91</td>\n",
              "      <td>7.3</td>\n",
              "      <td>23.34</td>\n",
              "      <td>3.87</td>\n",
              "      <td>165.6000</td>\n",
              "      <td>97.46</td>\n",
              "      <td>0.0</td>\n",
              "      <td>172.0</td>\n",
              "    </tr>\n",
              "    <tr>\n",
              "      <th>2020-01-15</th>\n",
              "      <td>35.65</td>\n",
              "      <td>48.7</td>\n",
              "      <td>763.87</td>\n",
              "      <td>1073.27</td>\n",
              "      <td>6.7</td>\n",
              "      <td>23.95</td>\n",
              "      <td>3.56</td>\n",
              "      <td>140.0817</td>\n",
              "      <td>98.57</td>\n",
              "      <td>0.0</td>\n",
              "      <td>348.0</td>\n",
              "    </tr>\n",
              "    <tr>\n",
              "      <th>2020-01-19</th>\n",
              "      <td>29.53</td>\n",
              "      <td>23.3</td>\n",
              "      <td>764.91</td>\n",
              "      <td>1056.90</td>\n",
              "      <td>5.6</td>\n",
              "      <td>23.21</td>\n",
              "      <td>3.68</td>\n",
              "      <td>127.8675</td>\n",
              "      <td>98.71</td>\n",
              "      <td>0.0</td>\n",
              "      <td>411.0</td>\n",
              "    </tr>\n",
              "    <tr>\n",
              "      <th>2020-01-22</th>\n",
              "      <td>22.62</td>\n",
              "      <td>16.1</td>\n",
              "      <td>767.06</td>\n",
              "      <td>935.86</td>\n",
              "      <td>2.1</td>\n",
              "      <td>18.53</td>\n",
              "      <td>2.75</td>\n",
              "      <td>162.4304</td>\n",
              "      <td>99.99</td>\n",
              "      <td>7.2</td>\n",
              "      <td>569.0</td>\n",
              "    </tr>\n",
              "    <tr>\n",
              "      <th>2020-02-14</th>\n",
              "      <td>56.02</td>\n",
              "      <td>42.1</td>\n",
              "      <td>764.91</td>\n",
              "      <td>1100.48</td>\n",
              "      <td>9.1</td>\n",
              "      <td>22.10</td>\n",
              "      <td>4.39</td>\n",
              "      <td>196.5737</td>\n",
              "      <td>95.66</td>\n",
              "      <td>0.0</td>\n",
              "      <td>243.0</td>\n",
              "    </tr>\n",
              "    <tr>\n",
              "      <th>2020-02-15</th>\n",
              "      <td>55.71</td>\n",
              "      <td>31.0</td>\n",
              "      <td>764.49</td>\n",
              "      <td>1074.44</td>\n",
              "      <td>7.1</td>\n",
              "      <td>21.99</td>\n",
              "      <td>3.84</td>\n",
              "      <td>156.6900</td>\n",
              "      <td>97.28</td>\n",
              "      <td>0.0</td>\n",
              "      <td>262.0</td>\n",
              "    </tr>\n",
              "    <tr>\n",
              "      <th>2020-02-21</th>\n",
              "      <td>29.75</td>\n",
              "      <td>16.4</td>\n",
              "      <td>767.06</td>\n",
              "      <td>1138.48</td>\n",
              "      <td>3.9</td>\n",
              "      <td>20.08</td>\n",
              "      <td>3.80</td>\n",
              "      <td>120.9004</td>\n",
              "      <td>99.99</td>\n",
              "      <td>6.4</td>\n",
              "      <td>439.0</td>\n",
              "    </tr>\n",
              "  </tbody>\n",
              "</table>\n",
              "</div>\n",
              "    <div class=\"colab-df-buttons\">\n",
              "\n",
              "  <div class=\"colab-df-container\">\n",
              "    <button class=\"colab-df-convert\" onclick=\"convertToInteractive('df-1d312e78-814a-496e-b08e-a878cf851337')\"\n",
              "            title=\"Convert this dataframe to an interactive table.\"\n",
              "            style=\"display:none;\">\n",
              "\n",
              "  <svg xmlns=\"http://www.w3.org/2000/svg\" height=\"24px\" viewBox=\"0 -960 960 960\">\n",
              "    <path d=\"M120-120v-720h720v720H120Zm60-500h600v-160H180v160Zm220 220h160v-160H400v160Zm0 220h160v-160H400v160ZM180-400h160v-160H180v160Zm440 0h160v-160H620v160ZM180-180h160v-160H180v160Zm440 0h160v-160H620v160Z\"/>\n",
              "  </svg>\n",
              "    </button>\n",
              "\n",
              "  <style>\n",
              "    .colab-df-container {\n",
              "      display:flex;\n",
              "      gap: 12px;\n",
              "    }\n",
              "\n",
              "    .colab-df-convert {\n",
              "      background-color: #E8F0FE;\n",
              "      border: none;\n",
              "      border-radius: 50%;\n",
              "      cursor: pointer;\n",
              "      display: none;\n",
              "      fill: #1967D2;\n",
              "      height: 32px;\n",
              "      padding: 0 0 0 0;\n",
              "      width: 32px;\n",
              "    }\n",
              "\n",
              "    .colab-df-convert:hover {\n",
              "      background-color: #E2EBFA;\n",
              "      box-shadow: 0px 1px 2px rgba(60, 64, 67, 0.3), 0px 1px 3px 1px rgba(60, 64, 67, 0.15);\n",
              "      fill: #174EA6;\n",
              "    }\n",
              "\n",
              "    .colab-df-buttons div {\n",
              "      margin-bottom: 4px;\n",
              "    }\n",
              "\n",
              "    [theme=dark] .colab-df-convert {\n",
              "      background-color: #3B4455;\n",
              "      fill: #D2E3FC;\n",
              "    }\n",
              "\n",
              "    [theme=dark] .colab-df-convert:hover {\n",
              "      background-color: #434B5C;\n",
              "      box-shadow: 0px 1px 3px 1px rgba(0, 0, 0, 0.15);\n",
              "      filter: drop-shadow(0px 1px 2px rgba(0, 0, 0, 0.3));\n",
              "      fill: #FFFFFF;\n",
              "    }\n",
              "  </style>\n",
              "\n",
              "    <script>\n",
              "      const buttonEl =\n",
              "        document.querySelector('#df-1d312e78-814a-496e-b08e-a878cf851337 button.colab-df-convert');\n",
              "      buttonEl.style.display =\n",
              "        google.colab.kernel.accessAllowed ? 'block' : 'none';\n",
              "\n",
              "      async function convertToInteractive(key) {\n",
              "        const element = document.querySelector('#df-1d312e78-814a-496e-b08e-a878cf851337');\n",
              "        const dataTable =\n",
              "          await google.colab.kernel.invokeFunction('convertToInteractive',\n",
              "                                                    [key], {});\n",
              "        if (!dataTable) return;\n",
              "\n",
              "        const docLinkHtml = 'Like what you see? Visit the ' +\n",
              "          '<a target=\"_blank\" href=https://colab.research.google.com/notebooks/data_table.ipynb>data table notebook</a>'\n",
              "          + ' to learn more about interactive tables.';\n",
              "        element.innerHTML = '';\n",
              "        dataTable['output_type'] = 'display_data';\n",
              "        await google.colab.output.renderOutput(dataTable, element);\n",
              "        const docLink = document.createElement('div');\n",
              "        docLink.innerHTML = docLinkHtml;\n",
              "        element.appendChild(docLink);\n",
              "      }\n",
              "    </script>\n",
              "  </div>\n",
              "\n",
              "\n",
              "<div id=\"df-d6abefb5-b1a6-4ff8-87a0-d03432f89e3c\">\n",
              "  <button class=\"colab-df-quickchart\" onclick=\"quickchart('df-d6abefb5-b1a6-4ff8-87a0-d03432f89e3c')\"\n",
              "            title=\"Suggest charts\"\n",
              "            style=\"display:none;\">\n",
              "\n",
              "<svg xmlns=\"http://www.w3.org/2000/svg\" height=\"24px\"viewBox=\"0 0 24 24\"\n",
              "     width=\"24px\">\n",
              "    <g>\n",
              "        <path d=\"M19 3H5c-1.1 0-2 .9-2 2v14c0 1.1.9 2 2 2h14c1.1 0 2-.9 2-2V5c0-1.1-.9-2-2-2zM9 17H7v-7h2v7zm4 0h-2V7h2v10zm4 0h-2v-4h2v4z\"/>\n",
              "    </g>\n",
              "</svg>\n",
              "  </button>\n",
              "\n",
              "<style>\n",
              "  .colab-df-quickchart {\n",
              "      --bg-color: #E8F0FE;\n",
              "      --fill-color: #1967D2;\n",
              "      --hover-bg-color: #E2EBFA;\n",
              "      --hover-fill-color: #174EA6;\n",
              "      --disabled-fill-color: #AAA;\n",
              "      --disabled-bg-color: #DDD;\n",
              "  }\n",
              "\n",
              "  [theme=dark] .colab-df-quickchart {\n",
              "      --bg-color: #3B4455;\n",
              "      --fill-color: #D2E3FC;\n",
              "      --hover-bg-color: #434B5C;\n",
              "      --hover-fill-color: #FFFFFF;\n",
              "      --disabled-bg-color: #3B4455;\n",
              "      --disabled-fill-color: #666;\n",
              "  }\n",
              "\n",
              "  .colab-df-quickchart {\n",
              "    background-color: var(--bg-color);\n",
              "    border: none;\n",
              "    border-radius: 50%;\n",
              "    cursor: pointer;\n",
              "    display: none;\n",
              "    fill: var(--fill-color);\n",
              "    height: 32px;\n",
              "    padding: 0;\n",
              "    width: 32px;\n",
              "  }\n",
              "\n",
              "  .colab-df-quickchart:hover {\n",
              "    background-color: var(--hover-bg-color);\n",
              "    box-shadow: 0 1px 2px rgba(60, 64, 67, 0.3), 0 1px 3px 1px rgba(60, 64, 67, 0.15);\n",
              "    fill: var(--button-hover-fill-color);\n",
              "  }\n",
              "\n",
              "  .colab-df-quickchart-complete:disabled,\n",
              "  .colab-df-quickchart-complete:disabled:hover {\n",
              "    background-color: var(--disabled-bg-color);\n",
              "    fill: var(--disabled-fill-color);\n",
              "    box-shadow: none;\n",
              "  }\n",
              "\n",
              "  .colab-df-spinner {\n",
              "    border: 2px solid var(--fill-color);\n",
              "    border-color: transparent;\n",
              "    border-bottom-color: var(--fill-color);\n",
              "    animation:\n",
              "      spin 1s steps(1) infinite;\n",
              "  }\n",
              "\n",
              "  @keyframes spin {\n",
              "    0% {\n",
              "      border-color: transparent;\n",
              "      border-bottom-color: var(--fill-color);\n",
              "      border-left-color: var(--fill-color);\n",
              "    }\n",
              "    20% {\n",
              "      border-color: transparent;\n",
              "      border-left-color: var(--fill-color);\n",
              "      border-top-color: var(--fill-color);\n",
              "    }\n",
              "    30% {\n",
              "      border-color: transparent;\n",
              "      border-left-color: var(--fill-color);\n",
              "      border-top-color: var(--fill-color);\n",
              "      border-right-color: var(--fill-color);\n",
              "    }\n",
              "    40% {\n",
              "      border-color: transparent;\n",
              "      border-right-color: var(--fill-color);\n",
              "      border-top-color: var(--fill-color);\n",
              "    }\n",
              "    60% {\n",
              "      border-color: transparent;\n",
              "      border-right-color: var(--fill-color);\n",
              "    }\n",
              "    80% {\n",
              "      border-color: transparent;\n",
              "      border-right-color: var(--fill-color);\n",
              "      border-bottom-color: var(--fill-color);\n",
              "    }\n",
              "    90% {\n",
              "      border-color: transparent;\n",
              "      border-bottom-color: var(--fill-color);\n",
              "    }\n",
              "  }\n",
              "</style>\n",
              "\n",
              "  <script>\n",
              "    async function quickchart(key) {\n",
              "      const quickchartButtonEl =\n",
              "        document.querySelector('#' + key + ' button');\n",
              "      quickchartButtonEl.disabled = true;  // To prevent multiple clicks.\n",
              "      quickchartButtonEl.classList.add('colab-df-spinner');\n",
              "      try {\n",
              "        const charts = await google.colab.kernel.invokeFunction(\n",
              "            'suggestCharts', [key], {});\n",
              "      } catch (error) {\n",
              "        console.error('Error during call to suggestCharts:', error);\n",
              "      }\n",
              "      quickchartButtonEl.classList.remove('colab-df-spinner');\n",
              "      quickchartButtonEl.classList.add('colab-df-quickchart-complete');\n",
              "    }\n",
              "    (() => {\n",
              "      let quickchartButtonEl =\n",
              "        document.querySelector('#df-d6abefb5-b1a6-4ff8-87a0-d03432f89e3c button');\n",
              "      quickchartButtonEl.style.display =\n",
              "        google.colab.kernel.accessAllowed ? 'block' : 'none';\n",
              "    })();\n",
              "  </script>\n",
              "</div>\n",
              "\n",
              "    </div>\n",
              "  </div>\n"
            ],
            "application/vnd.google.colaboratory.intrinsic+json": {
              "type": "dataframe",
              "variable_name": "data",
              "summary": "{\n  \"name\": \"data\",\n  \"rows\": 227,\n  \"fields\": [\n    {\n      \"column\": \"Fecha\",\n      \"properties\": {\n        \"dtype\": \"date\",\n        \"min\": \"2019-09-23 00:00:00\",\n        \"max\": \"2023-12-27 00:00:00\",\n        \"num_unique_values\": 227,\n        \"samples\": [\n          \"2019-12-05 00:00:00\",\n          \"2022-10-08 00:00:00\",\n          \"2020-01-19 00:00:00\"\n        ],\n        \"semantic_type\": \"\",\n        \"description\": \"\"\n      }\n    },\n    {\n      \"column\": \"O3\",\n      \"properties\": {\n        \"dtype\": \"number\",\n        \"std\": 12.319656123009326,\n        \"min\": 21.2,\n        \"max\": 80.44,\n        \"num_unique_values\": 224,\n        \"samples\": [\n          58.61,\n          72.68,\n          35.59\n        ],\n        \"semantic_type\": \"\",\n        \"description\": \"\"\n      }\n    },\n    {\n      \"column\": \"PM25\",\n      \"properties\": {\n        \"dtype\": \"number\",\n        \"std\": 16.477570570362925,\n        \"min\": 10.7,\n        \"max\": 169.9,\n        \"num_unique_values\": 171,\n        \"samples\": [\n          25.2,\n          26.9,\n          21.2\n        ],\n        \"semantic_type\": \"\",\n        \"description\": \"\"\n      }\n    },\n    {\n      \"column\": \"PRE\",\n      \"properties\": {\n        \"dtype\": \"number\",\n        \"std\": 1.2824991257856784,\n        \"min\": 763.47,\n        \"max\": 774.28,\n        \"num_unique_values\": 184,\n        \"samples\": [\n          765.19,\n          764.64,\n          765.99\n        ],\n        \"semantic_type\": \"\",\n        \"description\": \"\"\n      }\n    },\n    {\n      \"column\": \"RS\",\n      \"properties\": {\n        \"dtype\": \"number\",\n        \"std\": 172.85772708164336,\n        \"min\": 342.78,\n        \"max\": 1237.24,\n        \"num_unique_values\": 227,\n        \"samples\": [\n          963.6,\n          1017.85,\n          1056.9\n        ],\n        \"semantic_type\": \"\",\n        \"description\": \"\"\n      }\n    },\n    {\n      \"column\": \"SO2\",\n      \"properties\": {\n        \"dtype\": \"number\",\n        \"std\": 45.95330209628779,\n        \"min\": 0.95,\n        \"max\": 662.13,\n        \"num_unique_values\": 181,\n        \"samples\": [\n          1.5,\n          38.6,\n          4.36\n        ],\n        \"semantic_type\": \"\",\n        \"description\": \"\"\n      }\n    },\n    {\n      \"column\": \"TMP\",\n      \"properties\": {\n        \"dtype\": \"number\",\n        \"std\": 1.8356564724391133,\n        \"min\": 16.56,\n        \"max\": 25.39,\n        \"num_unique_values\": 194,\n        \"samples\": [\n          19.98,\n          22.1,\n          21.7\n        ],\n        \"semantic_type\": \"\",\n        \"description\": \"\"\n      }\n    },\n    {\n      \"column\": \"VEL\",\n      \"properties\": {\n        \"dtype\": \"number\",\n        \"std\": 0.6292456373483606,\n        \"min\": 1.82,\n        \"max\": 4.99,\n        \"num_unique_values\": 143,\n        \"samples\": [\n          2.62,\n          3.17,\n          4.23\n        ],\n        \"semantic_type\": \"\",\n        \"description\": \"\"\n      }\n    },\n    {\n      \"column\": \"DIR\",\n      \"properties\": {\n        \"dtype\": \"number\",\n        \"std\": 30.82905127987866,\n        \"min\": 48.8425,\n        \"max\": 222.36791666666667,\n        \"num_unique_values\": 227,\n        \"samples\": [\n          127.22041666666668,\n          156.75541666666666,\n          127.8675\n        ],\n        \"semantic_type\": \"\",\n        \"description\": \"\"\n      }\n    },\n    {\n      \"column\": \"HUM\",\n      \"properties\": {\n        \"dtype\": \"number\",\n        \"std\": 5.747096758640087,\n        \"min\": 62.1,\n        \"max\": 99.99,\n        \"num_unique_values\": 150,\n        \"samples\": [\n          99.98,\n          96.82,\n          95.76\n        ],\n        \"semantic_type\": \"\",\n        \"description\": \"\"\n      }\n    },\n    {\n      \"column\": \"LLU\",\n      \"properties\": {\n        \"dtype\": \"number\",\n        \"std\": 3.178639883765123,\n        \"min\": 0.0,\n        \"max\": 22.8,\n        \"num_unique_values\": 50,\n        \"samples\": [\n          5.4,\n          1.3000000000000005,\n          2.5\n        ],\n        \"semantic_type\": \"\",\n        \"description\": \"\"\n      }\n    },\n    {\n      \"column\": \"AOD\",\n      \"properties\": {\n        \"dtype\": \"number\",\n        \"std\": 132.47623304407065,\n        \"min\": 1.0,\n        \"max\": 696.0,\n        \"num_unique_values\": 189,\n        \"samples\": [\n          320.0,\n          250.0,\n          262.0\n        ],\n        \"semantic_type\": \"\",\n        \"description\": \"\"\n      }\n    }\n  ]\n}"
            }
          },
          "metadata": {},
          "execution_count": 128
        }
      ],
      "source": [
        "data.head(20)"
      ]
    },
    {
      "cell_type": "markdown",
      "metadata": {
        "id": "PgHCUiMnLjNF"
      },
      "source": [
        "<a id=\"section22\"></a>\n",
        "## <font color=\"#004D7F\">2.2. Dimensiones de los datos: _shape_ </font>"
      ]
    },
    {
      "cell_type": "code",
      "execution_count": 218,
      "metadata": {
        "id": "icxOjMHELjNF",
        "outputId": "185d0f1f-c429-4f41-eced-32fbdf79e626",
        "colab": {
          "base_uri": "https://localhost:8080/"
        }
      },
      "outputs": [
        {
          "output_type": "execute_result",
          "data": {
            "text/plain": [
              "(474, 13)"
            ]
          },
          "metadata": {},
          "execution_count": 218
        }
      ],
      "source": [
        "# Dimensions of your data\n",
        "data.shape"
      ]
    },
    {
      "cell_type": "markdown",
      "metadata": {
        "id": "eT8kUbAOLjNG"
      },
      "source": [
        "<a id=\"section23\"></a>\n",
        "## <font color=\"#004D7F\">2.3. Tipo de datos: _dtypes_ </font>"
      ]
    },
    {
      "cell_type": "code",
      "execution_count": 164,
      "metadata": {
        "id": "sTPJthbzLjNG",
        "outputId": "f197589b-3fe5-4460-84ea-59b11468ef5b",
        "colab": {
          "base_uri": "https://localhost:8080/"
        }
      },
      "outputs": [
        {
          "output_type": "execute_result",
          "data": {
            "text/plain": [
              "O3      float64\n",
              "PM25    float64\n",
              "PRE     float64\n",
              "RS      float64\n",
              "SO2     float64\n",
              "TMP     float64\n",
              "VEL     float64\n",
              "DIR     float64\n",
              "HUM     float64\n",
              "LLU     float64\n",
              "AOD     float64\n",
              "dtype: object"
            ]
          },
          "metadata": {},
          "execution_count": 164
        }
      ],
      "source": [
        "# Data Types for Each Attribute\n",
        "data.dtypes"
      ]
    },
    {
      "cell_type": "markdown",
      "source": [
        "2.4. Transformadas"
      ],
      "metadata": {
        "id": "u-AP_s3ctcHS"
      }
    },
    {
      "cell_type": "markdown",
      "source": [
        "Min-Max scaling"
      ],
      "metadata": {
        "id": "5CB8Ki5-vNxH"
      }
    },
    {
      "cell_type": "code",
      "source": [
        "# Apply min-max scaling to each column except the 'Fecha' column\n",
        "for column in data.columns:\n",
        "    if column != 'Fecha':\n",
        "        min_value = data[column].min()\n",
        "        max_value = data[column].max()\n",
        "        data[column] = (data[column] - min_value) / (max_value - min_value)"
      ],
      "metadata": {
        "id": "IcqHdlSMgfAc"
      },
      "execution_count": 138,
      "outputs": []
    },
    {
      "cell_type": "markdown",
      "source": [
        "Normalized transformation"
      ],
      "metadata": {
        "id": "Nxddny9JvT6M"
      }
    },
    {
      "cell_type": "code",
      "source": [
        "from sklearn.preprocessing import MinMaxScaler\n",
        "\n",
        "# Inicializar el MinMaxScaler\n",
        "scaler = MinMaxScaler()\n",
        "\n",
        "# Aplicar la normalización\n",
        "scaled_data = scaler.fit_transform(data)\n",
        "\n",
        "# Convertir de nuevo a DataFrame con las mismas columnas e índices\n",
        "data= pd.DataFrame(scaled_data, columns=data.columns, index=data.index)\n"
      ],
      "metadata": {
        "id": "zRk1GseanvB3"
      },
      "execution_count": 115,
      "outputs": []
    },
    {
      "cell_type": "markdown",
      "source": [
        "Yeo-johnson transformation"
      ],
      "metadata": {
        "id": "Vgo_LmpvvXUq"
      }
    },
    {
      "cell_type": "code",
      "source": [
        "from sklearn.preprocessing import PowerTransformer\n",
        "\n",
        "columns_to_transform = data.select_dtypes(include=['float64', 'int64'])\n",
        "\n",
        "# Crear el objeto PowerTransformer con el método Yeo-Johnson\n",
        "pt = PowerTransformer(method='yeo-johnson')\n",
        "\n",
        "# Ajustar y transformar los datos\n",
        "transformed_data = pt.fit_transform(columns_to_transform)\n",
        "\n",
        "# Convertir los datos transformados a un DataFrame y usar los mismos nombres de columna e índice\n",
        "data = pd.DataFrame(transformed_data, columns=columns_to_transform.columns, index=columns_to_transform.index)"
      ],
      "metadata": {
        "id": "_pYh8SwatS-n"
      },
      "execution_count": null,
      "outputs": []
    },
    {
      "cell_type": "markdown",
      "source": [],
      "metadata": {
        "id": "-uYmgxKfv_l5"
      }
    },
    {
      "cell_type": "markdown",
      "metadata": {
        "id": "mQHKrAxqLjNH"
      },
      "source": [
        "<a id=\"section24\"></a>\n",
        "## <font color=\"#004D7F\">2.4. Resumen: _describe()_ </font>"
      ]
    },
    {
      "cell_type": "code",
      "execution_count": 208,
      "metadata": {
        "scrolled": true,
        "id": "UtWID1qkLjNH",
        "outputId": "12381fd9-853d-4ea9-9dd8-58e1afc9cc1b",
        "colab": {
          "base_uri": "https://localhost:8080/",
          "height": 300
        }
      },
      "outputs": [
        {
          "output_type": "execute_result",
          "data": {
            "text/plain": [
              "            O3     PM25      PRE       RS      SO2      TMP      VEL      DIR      HUM      LLU  \\\n",
              "count  474.000  474.000  474.000  474.000  474.000  474.000  474.000  474.000  474.000  474.000   \n",
              "mean    22.964   17.334  726.181  206.876    4.301   14.274    1.706  166.339   70.895    3.636   \n",
              "std      9.846    5.966    3.247   55.340    2.392    1.068    0.621   32.625   12.117    7.253   \n",
              "min      4.973    5.334  720.047   15.143    0.241   10.553    0.257   59.862   38.601    0.000   \n",
              "25%     16.025   13.383  725.459  171.496    2.587   13.654    1.246  144.618   62.641    0.000   \n",
              "50%     21.313   17.253  726.208  207.397    3.760   14.308    1.621  169.583   73.123    0.100   \n",
              "75%     27.695   21.029  726.889  245.517    5.556   14.985    1.999  188.431   80.429    4.200   \n",
              "max     69.034   57.110  771.347  401.800   15.133   17.633    4.137  265.835   94.130   50.300   \n",
              "\n",
              "           AOD  \n",
              "count  474.000  \n",
              "mean   305.859  \n",
              "std    126.225  \n",
              "min      2.000  \n",
              "25%    222.250  \n",
              "50%    297.000  \n",
              "75%    395.000  \n",
              "max    744.000  "
            ],
            "text/html": [
              "\n",
              "  <div id=\"df-9b9d178b-53e2-4aec-b71f-d7889896fb09\" class=\"colab-df-container\">\n",
              "    <div>\n",
              "<style scoped>\n",
              "    .dataframe tbody tr th:only-of-type {\n",
              "        vertical-align: middle;\n",
              "    }\n",
              "\n",
              "    .dataframe tbody tr th {\n",
              "        vertical-align: top;\n",
              "    }\n",
              "\n",
              "    .dataframe thead th {\n",
              "        text-align: right;\n",
              "    }\n",
              "</style>\n",
              "<table border=\"1\" class=\"dataframe\">\n",
              "  <thead>\n",
              "    <tr style=\"text-align: right;\">\n",
              "      <th></th>\n",
              "      <th>O3</th>\n",
              "      <th>PM25</th>\n",
              "      <th>PRE</th>\n",
              "      <th>RS</th>\n",
              "      <th>SO2</th>\n",
              "      <th>TMP</th>\n",
              "      <th>VEL</th>\n",
              "      <th>DIR</th>\n",
              "      <th>HUM</th>\n",
              "      <th>LLU</th>\n",
              "      <th>AOD</th>\n",
              "    </tr>\n",
              "  </thead>\n",
              "  <tbody>\n",
              "    <tr>\n",
              "      <th>count</th>\n",
              "      <td>474.000</td>\n",
              "      <td>474.000</td>\n",
              "      <td>474.000</td>\n",
              "      <td>474.000</td>\n",
              "      <td>474.000</td>\n",
              "      <td>474.000</td>\n",
              "      <td>474.000</td>\n",
              "      <td>474.000</td>\n",
              "      <td>474.000</td>\n",
              "      <td>474.000</td>\n",
              "      <td>474.000</td>\n",
              "    </tr>\n",
              "    <tr>\n",
              "      <th>mean</th>\n",
              "      <td>22.964</td>\n",
              "      <td>17.334</td>\n",
              "      <td>726.181</td>\n",
              "      <td>206.876</td>\n",
              "      <td>4.301</td>\n",
              "      <td>14.274</td>\n",
              "      <td>1.706</td>\n",
              "      <td>166.339</td>\n",
              "      <td>70.895</td>\n",
              "      <td>3.636</td>\n",
              "      <td>305.859</td>\n",
              "    </tr>\n",
              "    <tr>\n",
              "      <th>std</th>\n",
              "      <td>9.846</td>\n",
              "      <td>5.966</td>\n",
              "      <td>3.247</td>\n",
              "      <td>55.340</td>\n",
              "      <td>2.392</td>\n",
              "      <td>1.068</td>\n",
              "      <td>0.621</td>\n",
              "      <td>32.625</td>\n",
              "      <td>12.117</td>\n",
              "      <td>7.253</td>\n",
              "      <td>126.225</td>\n",
              "    </tr>\n",
              "    <tr>\n",
              "      <th>min</th>\n",
              "      <td>4.973</td>\n",
              "      <td>5.334</td>\n",
              "      <td>720.047</td>\n",
              "      <td>15.143</td>\n",
              "      <td>0.241</td>\n",
              "      <td>10.553</td>\n",
              "      <td>0.257</td>\n",
              "      <td>59.862</td>\n",
              "      <td>38.601</td>\n",
              "      <td>0.000</td>\n",
              "      <td>2.000</td>\n",
              "    </tr>\n",
              "    <tr>\n",
              "      <th>25%</th>\n",
              "      <td>16.025</td>\n",
              "      <td>13.383</td>\n",
              "      <td>725.459</td>\n",
              "      <td>171.496</td>\n",
              "      <td>2.587</td>\n",
              "      <td>13.654</td>\n",
              "      <td>1.246</td>\n",
              "      <td>144.618</td>\n",
              "      <td>62.641</td>\n",
              "      <td>0.000</td>\n",
              "      <td>222.250</td>\n",
              "    </tr>\n",
              "    <tr>\n",
              "      <th>50%</th>\n",
              "      <td>21.313</td>\n",
              "      <td>17.253</td>\n",
              "      <td>726.208</td>\n",
              "      <td>207.397</td>\n",
              "      <td>3.760</td>\n",
              "      <td>14.308</td>\n",
              "      <td>1.621</td>\n",
              "      <td>169.583</td>\n",
              "      <td>73.123</td>\n",
              "      <td>0.100</td>\n",
              "      <td>297.000</td>\n",
              "    </tr>\n",
              "    <tr>\n",
              "      <th>75%</th>\n",
              "      <td>27.695</td>\n",
              "      <td>21.029</td>\n",
              "      <td>726.889</td>\n",
              "      <td>245.517</td>\n",
              "      <td>5.556</td>\n",
              "      <td>14.985</td>\n",
              "      <td>1.999</td>\n",
              "      <td>188.431</td>\n",
              "      <td>80.429</td>\n",
              "      <td>4.200</td>\n",
              "      <td>395.000</td>\n",
              "    </tr>\n",
              "    <tr>\n",
              "      <th>max</th>\n",
              "      <td>69.034</td>\n",
              "      <td>57.110</td>\n",
              "      <td>771.347</td>\n",
              "      <td>401.800</td>\n",
              "      <td>15.133</td>\n",
              "      <td>17.633</td>\n",
              "      <td>4.137</td>\n",
              "      <td>265.835</td>\n",
              "      <td>94.130</td>\n",
              "      <td>50.300</td>\n",
              "      <td>744.000</td>\n",
              "    </tr>\n",
              "  </tbody>\n",
              "</table>\n",
              "</div>\n",
              "    <div class=\"colab-df-buttons\">\n",
              "\n",
              "  <div class=\"colab-df-container\">\n",
              "    <button class=\"colab-df-convert\" onclick=\"convertToInteractive('df-9b9d178b-53e2-4aec-b71f-d7889896fb09')\"\n",
              "            title=\"Convert this dataframe to an interactive table.\"\n",
              "            style=\"display:none;\">\n",
              "\n",
              "  <svg xmlns=\"http://www.w3.org/2000/svg\" height=\"24px\" viewBox=\"0 -960 960 960\">\n",
              "    <path d=\"M120-120v-720h720v720H120Zm60-500h600v-160H180v160Zm220 220h160v-160H400v160Zm0 220h160v-160H400v160ZM180-400h160v-160H180v160Zm440 0h160v-160H620v160ZM180-180h160v-160H180v160Zm440 0h160v-160H620v160Z\"/>\n",
              "  </svg>\n",
              "    </button>\n",
              "\n",
              "  <style>\n",
              "    .colab-df-container {\n",
              "      display:flex;\n",
              "      gap: 12px;\n",
              "    }\n",
              "\n",
              "    .colab-df-convert {\n",
              "      background-color: #E8F0FE;\n",
              "      border: none;\n",
              "      border-radius: 50%;\n",
              "      cursor: pointer;\n",
              "      display: none;\n",
              "      fill: #1967D2;\n",
              "      height: 32px;\n",
              "      padding: 0 0 0 0;\n",
              "      width: 32px;\n",
              "    }\n",
              "\n",
              "    .colab-df-convert:hover {\n",
              "      background-color: #E2EBFA;\n",
              "      box-shadow: 0px 1px 2px rgba(60, 64, 67, 0.3), 0px 1px 3px 1px rgba(60, 64, 67, 0.15);\n",
              "      fill: #174EA6;\n",
              "    }\n",
              "\n",
              "    .colab-df-buttons div {\n",
              "      margin-bottom: 4px;\n",
              "    }\n",
              "\n",
              "    [theme=dark] .colab-df-convert {\n",
              "      background-color: #3B4455;\n",
              "      fill: #D2E3FC;\n",
              "    }\n",
              "\n",
              "    [theme=dark] .colab-df-convert:hover {\n",
              "      background-color: #434B5C;\n",
              "      box-shadow: 0px 1px 3px 1px rgba(0, 0, 0, 0.15);\n",
              "      filter: drop-shadow(0px 1px 2px rgba(0, 0, 0, 0.3));\n",
              "      fill: #FFFFFF;\n",
              "    }\n",
              "  </style>\n",
              "\n",
              "    <script>\n",
              "      const buttonEl =\n",
              "        document.querySelector('#df-9b9d178b-53e2-4aec-b71f-d7889896fb09 button.colab-df-convert');\n",
              "      buttonEl.style.display =\n",
              "        google.colab.kernel.accessAllowed ? 'block' : 'none';\n",
              "\n",
              "      async function convertToInteractive(key) {\n",
              "        const element = document.querySelector('#df-9b9d178b-53e2-4aec-b71f-d7889896fb09');\n",
              "        const dataTable =\n",
              "          await google.colab.kernel.invokeFunction('convertToInteractive',\n",
              "                                                    [key], {});\n",
              "        if (!dataTable) return;\n",
              "\n",
              "        const docLinkHtml = 'Like what you see? Visit the ' +\n",
              "          '<a target=\"_blank\" href=https://colab.research.google.com/notebooks/data_table.ipynb>data table notebook</a>'\n",
              "          + ' to learn more about interactive tables.';\n",
              "        element.innerHTML = '';\n",
              "        dataTable['output_type'] = 'display_data';\n",
              "        await google.colab.output.renderOutput(dataTable, element);\n",
              "        const docLink = document.createElement('div');\n",
              "        docLink.innerHTML = docLinkHtml;\n",
              "        element.appendChild(docLink);\n",
              "      }\n",
              "    </script>\n",
              "  </div>\n",
              "\n",
              "\n",
              "<div id=\"df-2c43f329-47ad-4493-a369-2d33be42d40e\">\n",
              "  <button class=\"colab-df-quickchart\" onclick=\"quickchart('df-2c43f329-47ad-4493-a369-2d33be42d40e')\"\n",
              "            title=\"Suggest charts\"\n",
              "            style=\"display:none;\">\n",
              "\n",
              "<svg xmlns=\"http://www.w3.org/2000/svg\" height=\"24px\"viewBox=\"0 0 24 24\"\n",
              "     width=\"24px\">\n",
              "    <g>\n",
              "        <path d=\"M19 3H5c-1.1 0-2 .9-2 2v14c0 1.1.9 2 2 2h14c1.1 0 2-.9 2-2V5c0-1.1-.9-2-2-2zM9 17H7v-7h2v7zm4 0h-2V7h2v10zm4 0h-2v-4h2v4z\"/>\n",
              "    </g>\n",
              "</svg>\n",
              "  </button>\n",
              "\n",
              "<style>\n",
              "  .colab-df-quickchart {\n",
              "      --bg-color: #E8F0FE;\n",
              "      --fill-color: #1967D2;\n",
              "      --hover-bg-color: #E2EBFA;\n",
              "      --hover-fill-color: #174EA6;\n",
              "      --disabled-fill-color: #AAA;\n",
              "      --disabled-bg-color: #DDD;\n",
              "  }\n",
              "\n",
              "  [theme=dark] .colab-df-quickchart {\n",
              "      --bg-color: #3B4455;\n",
              "      --fill-color: #D2E3FC;\n",
              "      --hover-bg-color: #434B5C;\n",
              "      --hover-fill-color: #FFFFFF;\n",
              "      --disabled-bg-color: #3B4455;\n",
              "      --disabled-fill-color: #666;\n",
              "  }\n",
              "\n",
              "  .colab-df-quickchart {\n",
              "    background-color: var(--bg-color);\n",
              "    border: none;\n",
              "    border-radius: 50%;\n",
              "    cursor: pointer;\n",
              "    display: none;\n",
              "    fill: var(--fill-color);\n",
              "    height: 32px;\n",
              "    padding: 0;\n",
              "    width: 32px;\n",
              "  }\n",
              "\n",
              "  .colab-df-quickchart:hover {\n",
              "    background-color: var(--hover-bg-color);\n",
              "    box-shadow: 0 1px 2px rgba(60, 64, 67, 0.3), 0 1px 3px 1px rgba(60, 64, 67, 0.15);\n",
              "    fill: var(--button-hover-fill-color);\n",
              "  }\n",
              "\n",
              "  .colab-df-quickchart-complete:disabled,\n",
              "  .colab-df-quickchart-complete:disabled:hover {\n",
              "    background-color: var(--disabled-bg-color);\n",
              "    fill: var(--disabled-fill-color);\n",
              "    box-shadow: none;\n",
              "  }\n",
              "\n",
              "  .colab-df-spinner {\n",
              "    border: 2px solid var(--fill-color);\n",
              "    border-color: transparent;\n",
              "    border-bottom-color: var(--fill-color);\n",
              "    animation:\n",
              "      spin 1s steps(1) infinite;\n",
              "  }\n",
              "\n",
              "  @keyframes spin {\n",
              "    0% {\n",
              "      border-color: transparent;\n",
              "      border-bottom-color: var(--fill-color);\n",
              "      border-left-color: var(--fill-color);\n",
              "    }\n",
              "    20% {\n",
              "      border-color: transparent;\n",
              "      border-left-color: var(--fill-color);\n",
              "      border-top-color: var(--fill-color);\n",
              "    }\n",
              "    30% {\n",
              "      border-color: transparent;\n",
              "      border-left-color: var(--fill-color);\n",
              "      border-top-color: var(--fill-color);\n",
              "      border-right-color: var(--fill-color);\n",
              "    }\n",
              "    40% {\n",
              "      border-color: transparent;\n",
              "      border-right-color: var(--fill-color);\n",
              "      border-top-color: var(--fill-color);\n",
              "    }\n",
              "    60% {\n",
              "      border-color: transparent;\n",
              "      border-right-color: var(--fill-color);\n",
              "    }\n",
              "    80% {\n",
              "      border-color: transparent;\n",
              "      border-right-color: var(--fill-color);\n",
              "      border-bottom-color: var(--fill-color);\n",
              "    }\n",
              "    90% {\n",
              "      border-color: transparent;\n",
              "      border-bottom-color: var(--fill-color);\n",
              "    }\n",
              "  }\n",
              "</style>\n",
              "\n",
              "  <script>\n",
              "    async function quickchart(key) {\n",
              "      const quickchartButtonEl =\n",
              "        document.querySelector('#' + key + ' button');\n",
              "      quickchartButtonEl.disabled = true;  // To prevent multiple clicks.\n",
              "      quickchartButtonEl.classList.add('colab-df-spinner');\n",
              "      try {\n",
              "        const charts = await google.colab.kernel.invokeFunction(\n",
              "            'suggestCharts', [key], {});\n",
              "      } catch (error) {\n",
              "        console.error('Error during call to suggestCharts:', error);\n",
              "      }\n",
              "      quickchartButtonEl.classList.remove('colab-df-spinner');\n",
              "      quickchartButtonEl.classList.add('colab-df-quickchart-complete');\n",
              "    }\n",
              "    (() => {\n",
              "      let quickchartButtonEl =\n",
              "        document.querySelector('#df-2c43f329-47ad-4493-a369-2d33be42d40e button');\n",
              "      quickchartButtonEl.style.display =\n",
              "        google.colab.kernel.accessAllowed ? 'block' : 'none';\n",
              "    })();\n",
              "  </script>\n",
              "</div>\n",
              "\n",
              "    </div>\n",
              "  </div>\n"
            ],
            "application/vnd.google.colaboratory.intrinsic+json": {
              "type": "dataframe",
              "summary": "{\n  \"name\": \"data\",\n  \"rows\": 8,\n  \"fields\": [\n    {\n      \"column\": \"O3\",\n      \"properties\": {\n        \"dtype\": \"number\",\n        \"std\": 160.10201552277726,\n        \"min\": 4.9725,\n        \"max\": 474.0,\n        \"num_unique_values\": 8,\n        \"samples\": [\n          22.963503334096476,\n          21.313260869565212,\n          474.0\n        ],\n        \"semantic_type\": \"\",\n        \"description\": \"\"\n      }\n    },\n    {\n      \"column\": \"PM25\",\n      \"properties\": {\n        \"dtype\": \"number\",\n        \"std\": 161.46357489755488,\n        \"min\": 5.334166666666667,\n        \"max\": 474.0,\n        \"num_unique_values\": 8,\n        \"samples\": [\n          17.33375681327627,\n          17.252916666666664,\n          474.0\n        ],\n        \"semantic_type\": \"\",\n        \"description\": \"\"\n      }\n    },\n    {\n      \"column\": \"PRE\",\n      \"properties\": {\n        \"dtype\": \"number\",\n        \"std\": 261.5283483998519,\n        \"min\": 3.2468350338448837,\n        \"max\": 771.3475,\n        \"num_unique_values\": 8,\n        \"samples\": [\n          726.1811693260587,\n          726.2083333333333,\n          474.0\n        ],\n        \"semantic_type\": \"\",\n        \"description\": \"\"\n      }\n    },\n    {\n      \"column\": \"RS\",\n      \"properties\": {\n        \"dtype\": \"number\",\n        \"std\": 155.81252783524644,\n        \"min\": 15.143333333333336,\n        \"max\": 474.0,\n        \"num_unique_values\": 8,\n        \"samples\": [\n          206.87632235988113,\n          207.39666666666665,\n          474.0\n        ],\n        \"semantic_type\": \"\",\n        \"description\": \"\"\n      }\n    },\n    {\n      \"column\": \"SO2\",\n      \"properties\": {\n        \"dtype\": \"number\",\n        \"std\": 165.92889956745424,\n        \"min\": 0.2408333333333333,\n        \"max\": 474.0,\n        \"num_unique_values\": 8,\n        \"samples\": [\n          4.301310193996715,\n          3.759791666666666,\n          474.0\n        ],\n        \"semantic_type\": \"\",\n        \"description\": \"\"\n      }\n    },\n    {\n      \"column\": \"TMP\",\n      \"properties\": {\n        \"dtype\": \"number\",\n        \"std\": 163.29303277918336,\n        \"min\": 1.0682032442030855,\n        \"max\": 474.0,\n        \"num_unique_values\": 8,\n        \"samples\": [\n          14.273992838120119,\n          14.308333333333334,\n          474.0\n        ],\n        \"semantic_type\": \"\",\n        \"description\": \"\"\n      }\n    },\n    {\n      \"column\": \"VEL\",\n      \"properties\": {\n        \"dtype\": \"number\",\n        \"std\": 167.00319022479687,\n        \"min\": 0.2566666666666666,\n        \"max\": 474.0,\n        \"num_unique_values\": 8,\n        \"samples\": [\n          1.7057601543385894,\n          1.620625,\n          474.0\n        ],\n        \"semantic_type\": \"\",\n        \"description\": \"\"\n      }\n    },\n    {\n      \"column\": \"DIR\",\n      \"properties\": {\n        \"dtype\": \"number\",\n        \"std\": 136.8547677629971,\n        \"min\": 32.62519471609216,\n        \"max\": 474.0,\n        \"num_unique_values\": 8,\n        \"samples\": [\n          166.33946322622063,\n          169.5825,\n          474.0\n        ],\n        \"semantic_type\": \"\",\n        \"description\": \"\"\n      }\n    },\n    {\n      \"column\": \"HUM\",\n      \"properties\": {\n        \"dtype\": \"number\",\n        \"std\": 148.01016489313525,\n        \"min\": 12.116872617037414,\n        \"max\": 474.0,\n        \"num_unique_values\": 8,\n        \"samples\": [\n          70.89504817273702,\n          73.123125,\n          474.0\n        ],\n        \"semantic_type\": \"\",\n        \"description\": \"\"\n      }\n    },\n    {\n      \"column\": \"LLU\",\n      \"properties\": {\n        \"dtype\": \"number\",\n        \"std\": 165.14433811342218,\n        \"min\": 0.0,\n        \"max\": 474.0,\n        \"num_unique_values\": 7,\n        \"samples\": [\n          474.0,\n          3.6360759493670884,\n          4.2\n        ],\n        \"semantic_type\": \"\",\n        \"description\": \"\"\n      }\n    },\n    {\n      \"column\": \"AOD\",\n      \"properties\": {\n        \"dtype\": \"number\",\n        \"std\": 226.16963857305907,\n        \"min\": 2.0,\n        \"max\": 744.0,\n        \"num_unique_values\": 8,\n        \"samples\": [\n          305.8586497890295,\n          297.0,\n          474.0\n        ],\n        \"semantic_type\": \"\",\n        \"description\": \"\"\n      }\n    }\n  ]\n}"
            }
          },
          "metadata": {},
          "execution_count": 208
        }
      ],
      "source": [
        "# Statistical Summary\n",
        "pd.set_option('display.width', 100)\n",
        "pd.set_option('display.precision', 3)\n",
        "data.describe()"
      ]
    },
    {
      "cell_type": "markdown",
      "metadata": {
        "id": "R3YhuomL_ZwW"
      },
      "source": [
        "<a id=\"section24\"></a>\n",
        "## <font color=\"#004D7F\">2.5. Histogramas </font>"
      ]
    },
    {
      "cell_type": "code",
      "source": [
        "# Configurar el tamaño de la figura y el número de subgráficas\n",
        "fig, axs = plt.subplots(4, 4, figsize=(20, 20))  # Ajustar el tamaño según sea necesario\n",
        "\n",
        "# Aplanar el array de ejes para una iteración más fácil\n",
        "axs = axs.ravel()\n",
        "\n",
        "# Graficar un histograma para cada columna, hasta un máximo de 16 columnas\n",
        "for i, column in enumerate(data.columns[:16]):  # Ajusta según el número de columnas\n",
        "    axs[i].hist(data[column].dropna(), bins=20, color='skyblue', edgecolor='black')\n",
        "    axs[i].set_title(f'Histograma de {column}')\n",
        "    axs[i].set_xlabel(column)\n",
        "    axs[i].set_ylabel('Frecuencia')\n",
        "\n",
        "# Ocultar gráficos vacíos si hay menos de 16 columnas\n",
        "for i in range(len(data.columns), 16):\n",
        "    axs[i].axis('off')\n",
        "\n",
        "plt.tight_layout()\n",
        "plt.show()"
      ],
      "metadata": {
        "colab": {
          "base_uri": "https://localhost:8080/",
          "height": 1000
        },
        "id": "5iWWbGuy_goO",
        "outputId": "0124006b-46b3-4d76-9575-08052f256129"
      },
      "execution_count": 219,
      "outputs": [
        {
          "output_type": "display_data",
          "data": {
            "text/plain": [
              "<Figure size 2000x2000 with 16 Axes>"
            ],
            "image/png": "[encoded data removed]"
          },
          "metadata": {}
        }
      ]
    },
    {
      "cell_type": "markdown",
      "metadata": {
        "id": "trxxsx_eLjNH"
      },
      "source": [
        "<a id=\"section26\"></a>\n",
        "## <font color=\"#004D7F\">2.6. Correlaciones: _corr()_ </font>"
      ]
    },
    {
      "cell_type": "code",
      "execution_count": 220,
      "metadata": {
        "id": "qWeJA60oLjNI",
        "outputId": "47b69548-c9dd-450a-f3d3-d9e3cfca98ce",
        "colab": {
          "base_uri": "https://localhost:8080/"
        }
      },
      "outputs": [
        {
          "output_type": "stream",
          "name": "stdout",
          "text": [
            "         NO2      O3    PM25     PRE      RS     SO2     TMP     VEL      CO     DIR     HUM     LLU     AOD\n",
            "NO2   1.0000 -0.0757  0.6229  0.1098 -0.1390  0.3546 -0.2513 -0.1569  0.6053 -0.0178  0.3422  0.2704  0.1799\n",
            "O3   -0.0757  1.0000 -0.2015 -0.0179  0.5243 -0.1768  0.3784  0.4154 -0.3264  0.2398 -0.5381 -0.1693  0.0563\n",
            "PM25  0.6229 -0.2015  1.0000  0.1438 -0.0721  0.3610 -0.2125 -0.1627  0.5502 -0.0906  0.3952  0.1514  0.0882\n",
            "PRE   0.1098 -0.0179  0.1438  1.0000 -0.0475 -0.0720 -0.1653  0.0482  0.2390 -0.0311  0.1203  0.1796  0.0151\n",
            "RS   -0.1390  0.5243 -0.0721 -0.0475  1.0000 -0.0306  0.6604  0.4687 -0.2663  0.2861 -0.5676 -0.2840 -0.0022\n",
            "SO2   0.3546 -0.1768  0.3610 -0.0720 -0.0306  1.0000 -0.0622 -0.1208  0.2859 -0.0485  0.1238 -0.0692  0.0363\n",
            "TMP  -0.2513  0.3784 -0.2125 -0.1653  0.6604 -0.0622  1.0000  0.3985 -0.3510  0.3398 -0.5761 -0.3469 -0.0437\n",
            "VEL  -0.1569  0.4154 -0.1627  0.0482  0.4687 -0.1208  0.3985  1.0000 -0.0008  0.3080 -0.5263 -0.2247 -0.0241\n",
            "CO    0.6053 -0.3264  0.5502  0.2390 -0.2663  0.2859 -0.3510 -0.0008  1.0000  0.0039  0.4644  0.3303  0.1166\n",
            "DIR  -0.0178  0.2398 -0.0906 -0.0311  0.2861 -0.0485  0.3398  0.3080  0.0039  1.0000 -0.3889 -0.0264 -0.0789\n",
            "HUM   0.3422 -0.5381  0.3952  0.1203 -0.5676  0.1238 -0.5761 -0.5263  0.4644 -0.3889  1.0000  0.5049  0.1574\n",
            "LLU   0.2704 -0.1693  0.1514  0.1796 -0.2840 -0.0692 -0.3469 -0.2247  0.3303 -0.0264  0.5049  1.0000  0.1398\n",
            "AOD   0.1799  0.0563  0.0882  0.0151 -0.0022  0.0363 -0.0437 -0.0241  0.1166 -0.0789  0.1574  0.1398  1.0000\n"
          ]
        }
      ],
      "source": [
        "# Pairwise Pearson correlations\n",
        "pd.set_option('display.width', 120)\n",
        "pd.set_option('display.precision', 4)\n",
        "correlation = data.corr(method='pearson')\n",
        "print(correlation)"
      ]
    },
    {
      "cell_type": "code",
      "source": [
        "# Spearman correlations\n",
        "pd.set_option('display.width', 120)\n",
        "pd.set_option('display.precision', 4)\n",
        "correlation = data.corr(method='spearman')\n",
        "print(correlation)"
      ],
      "metadata": {
        "colab": {
          "base_uri": "https://localhost:8080/"
        },
        "id": "bxrMn2nsy05t",
        "outputId": "fb3ff5fb-e2c1-498a-ff3d-c29558e4fe01"
      },
      "execution_count": 192,
      "outputs": [
        {
          "output_type": "stream",
          "name": "stdout",
          "text": [
            "          O3    PM25     PRE      RS     SO2     TMP     VEL     DIR     HUM     LLU     AOD\n",
            "O3    1.0000  0.0395 -0.0039  0.4545  0.0202  0.3465  0.3517  0.3155 -0.3939 -0.2009  0.0405\n",
            "PM25  0.0395  1.0000 -0.1037  0.0771  0.3720  0.0120 -0.1139  0.1218  0.0335  0.0122  0.0967\n",
            "PRE  -0.0039 -0.1037  1.0000 -0.2209  0.0070 -0.2215 -0.1138 -0.0043  0.1824  0.1898 -0.0095\n",
            "RS    0.4545  0.0771 -0.2209  1.0000  0.1205  0.4985  0.5429  0.3235 -0.3794 -0.2328  0.0228\n",
            "SO2   0.0202  0.3720  0.0070  0.1205  1.0000  0.0673 -0.1062  0.1872 -0.0833 -0.0738 -0.0003\n",
            "TMP   0.3465  0.0120 -0.2215  0.4985  0.0673  1.0000  0.5021  0.2234 -0.4894 -0.3110 -0.0103\n",
            "VEL   0.3517 -0.1139 -0.1138  0.5429 -0.1062  0.5021  1.0000  0.1678 -0.4386 -0.2860  0.0787\n",
            "DIR   0.3155  0.1218 -0.0043  0.3235  0.1872  0.2234  0.1678  1.0000 -0.4078 -0.2134 -0.0288\n",
            "HUM  -0.3939  0.0335  0.1824 -0.3794 -0.0833 -0.4894 -0.4386 -0.4078  1.0000  0.6874  0.1570\n",
            "LLU  -0.2009  0.0122  0.1898 -0.2328 -0.0738 -0.3110 -0.2860 -0.2134  0.6874  1.0000  0.1240\n",
            "AOD   0.0405  0.0967 -0.0095  0.0228 -0.0003 -0.0103  0.0787 -0.0288  0.1570  0.1240  1.0000\n"
          ]
        }
      ]
    },
    {
      "cell_type": "code",
      "source": [
        "# Kendall correlations\n",
        "pd.set_option('display.width', 120)\n",
        "pd.set_option('display.precision', 4)\n",
        "correlation = data.corr(method='kendall')\n",
        "print(correlation)"
      ],
      "metadata": {
        "colab": {
          "base_uri": "https://localhost:8080/"
        },
        "id": "2FGlcweRy2lH",
        "outputId": "f23df93a-3f52-48c1-ba87-15e17a99a7c1"
      },
      "execution_count": null,
      "outputs": [
        {
          "output_type": "stream",
          "name": "stdout",
          "text": [
            "         NO2      O3    PM25     PRE      RS     SO2     TMP     VEL      CO     DIR     HUM     LLU     AOD\n",
            "NO2   1.0000 -0.0172  0.3803  0.0649 -0.0821  0.2454 -0.0832 -0.0090  0.3956  0.0322  0.2490  0.1983  0.1007\n",
            "O3   -0.0172  1.0000 -0.1130  0.0863  0.3306 -0.1321  0.3198  0.4063 -0.1628  0.2088 -0.3980 -0.2421 -0.0757\n",
            "PM25  0.3803 -0.1130  1.0000 -0.0330 -0.0388  0.2322 -0.1181  0.0218  0.3636 -0.0124  0.2214  0.1037  0.0842\n",
            "PRE   0.0649  0.0863 -0.0330  1.0000 -0.0377 -0.0602 -0.1336  0.0839  0.1610  0.0772  0.0382  0.1000 -0.0059\n",
            "RS   -0.0821  0.3306 -0.0388 -0.0377  1.0000 -0.0568  0.3574  0.2355 -0.1530  0.0907 -0.2504 -0.1994  0.0055\n",
            "SO2   0.2454 -0.1321  0.2322 -0.0602 -0.0568  1.0000 -0.0934 -0.1026  0.1634 -0.0838  0.0883  0.0478  0.0837\n",
            "TMP  -0.0832  0.3198 -0.1181 -0.1336  0.3574 -0.0934  1.0000  0.2508 -0.2183  0.1156 -0.3220 -0.1945  0.0177\n",
            "VEL  -0.0090  0.4063  0.0218  0.0839  0.2355 -0.1026  0.2508  1.0000 -0.0053  0.1050 -0.2816 -0.2399 -0.0537\n",
            "CO    0.3956 -0.1628  0.3636  0.1610 -0.1530  0.1634 -0.2183 -0.0053  1.0000  0.0490  0.3726  0.3072  0.1145\n",
            "DIR   0.0322  0.2088 -0.0124  0.0772  0.0907 -0.0838  0.1156  0.1050  0.0490  1.0000 -0.1320  0.0095  0.0303\n",
            "HUM   0.2490 -0.3980  0.2214  0.0382 -0.2504  0.0883 -0.3220 -0.2816  0.3726 -0.1320  1.0000  0.5290  0.0613\n",
            "LLU   0.1983 -0.2421  0.1037  0.1000 -0.1994  0.0478 -0.1945 -0.2399  0.3072  0.0095  0.5290  1.0000  0.0835\n",
            "AOD   0.1007 -0.0757  0.0842 -0.0059  0.0055  0.0837  0.0177 -0.0537  0.1145  0.0303  0.0613  0.0835  1.0000\n"
          ]
        }
      ]
    },
    {
      "cell_type": "markdown",
      "metadata": {
        "id": "1zVi9pN8LjNI"
      },
      "source": [
        "<a id=\"section27\"></a>\n",
        "## <font color=\"#004D7F\">2.7. Asimetría: _skew()_ </font>"
      ]
    },
    {
      "cell_type": "markdown",
      "metadata": {
        "id": "jUxNty3SLjNI"
      },
      "source": [
        "Puede calcular el sesgo de cada atributo utilizando la función `skew()`. El resultado de inclinación muestra una inclinación positiva (derecha) o negativa (izquierda). Los valores más cercanos a cero muestran menos sesgo."
      ]
    },
    {
      "cell_type": "code",
      "execution_count": 119,
      "metadata": {
        "scrolled": true,
        "id": "CAzRLhIFLjNI",
        "colab": {
          "base_uri": "https://localhost:8080/"
        },
        "outputId": "ba105cda-a5ac-4925-98d3-5d41039b80d3"
      },
      "outputs": [
        {
          "output_type": "execute_result",
          "data": {
            "text/plain": [
              "NO2      0.3691\n",
              "O3       1.3410\n",
              "PM25     1.0089\n",
              "PRE     11.2576\n",
              "RS      -0.0680\n",
              "SO2      1.1667\n",
              "TMP     -0.4344\n",
              "VEL      1.1589\n",
              "CO       0.9641\n",
              "DIR     -0.1332\n",
              "HUM     -0.4496\n",
              "LLU      2.8496\n",
              "AOD      0.1446\n",
              "dtype: float64"
            ]
          },
          "metadata": {},
          "execution_count": 119
        }
      ],
      "source": [
        "# Skew for each attribute\n",
        "data.skew()"
      ]
    },
    {
      "cell_type": "markdown",
      "metadata": {
        "id": "EVaSOFdtLjNJ"
      },
      "source": [
        "<div style=\"text-align: right\"> <font size=5>\n",
        "    <a href=\"#indice\"><i class=\"fa fa-arrow-circle-up\" aria-hidden=\"true\" style=\"color:#004D7F\"></i></a>\n",
        "</font></div>\n",
        "\n",
        "---\n",
        "\n",
        "<div style=\"text-align: right\"> <font size=6><i class=\"fa fa-coffee\" aria-hidden=\"true\" style=\"color:#004D7F\"></i> </font></div>"
      ]
    }
  ],
  "metadata": {
    "kernelspec": {
      "display_name": "Python 3 (ipykernel)",
      "language": "python",
      "name": "python3"
    },
    "language_info": {
      "codemirror_mode": {
        "name": "ipython",
        "version": 3
      },
      "file_extension": ".py",
      "mimetype": "text/x-python",
      "name": "python",
      "nbconvert_exporter": "python",
      "pygments_lexer": "ipython3",
      "version": "3.10.12"
    },
    "colab": {
      "provenance": [],
      "include_colab_link": true
    }
  },
  "nbformat": 4,
  "nbformat_minor": 0
}